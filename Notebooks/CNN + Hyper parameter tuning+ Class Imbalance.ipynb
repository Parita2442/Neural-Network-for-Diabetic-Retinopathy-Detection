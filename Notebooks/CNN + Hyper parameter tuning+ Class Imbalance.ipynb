{
 "cells": [
  {
   "cell_type": "code",
   "execution_count": 1,
   "id": "af176ae2",
   "metadata": {},
   "outputs": [
    {
     "name": "stdout",
     "output_type": "stream",
     "text": [
      "Defaulting to user installation because normal site-packages is not writeable\n",
      "Requirement already satisfied: torchvision in /usr4/ba820/pmpatel/.local/lib/python3.10/site-packages (0.17.2)\n",
      "Requirement already satisfied: numpy in /share/pkg.8/python3/3.10.12/install/lib/python3.10/site-packages (from torchvision) (1.24.4)\n",
      "Requirement already satisfied: torch==2.2.2 in /usr4/ba820/pmpatel/.local/lib/python3.10/site-packages (from torchvision) (2.2.2)\n",
      "Requirement already satisfied: pillow!=8.3.*,>=5.3.0 in /share/pkg.8/python3/3.10.12/install/lib/python3.10/site-packages (from torchvision) (10.0.0)\n",
      "Requirement already satisfied: filelock in /share/pkg.8/python3/3.10.12/install/lib/python3.10/site-packages (from torch==2.2.2->torchvision) (3.12.2)\n",
      "Requirement already satisfied: typing-extensions>=4.8.0 in /usr4/ba820/pmpatel/.local/lib/python3.10/site-packages (from torch==2.2.2->torchvision) (4.11.0)\n",
      "Requirement already satisfied: sympy in /share/pkg.8/python3/3.10.12/install/lib/python3.10/site-packages (from torch==2.2.2->torchvision) (1.12)\n",
      "Requirement already satisfied: networkx in /share/pkg.8/python3/3.10.12/install/lib/python3.10/site-packages (from torch==2.2.2->torchvision) (3.1)\n",
      "Requirement already satisfied: jinja2 in /share/pkg.8/python3/3.10.12/install/lib/python3.10/site-packages (from torch==2.2.2->torchvision) (3.1.2)\n",
      "Requirement already satisfied: fsspec in /share/pkg.8/python3/3.10.12/install/lib/python3.10/site-packages (from torch==2.2.2->torchvision) (2023.6.0)\n",
      "Requirement already satisfied: nvidia-cuda-nvrtc-cu12==12.1.105 in /usr4/ba820/pmpatel/.local/lib/python3.10/site-packages (from torch==2.2.2->torchvision) (12.1.105)\n",
      "Requirement already satisfied: nvidia-cuda-runtime-cu12==12.1.105 in /usr4/ba820/pmpatel/.local/lib/python3.10/site-packages (from torch==2.2.2->torchvision) (12.1.105)\n",
      "Requirement already satisfied: nvidia-cuda-cupti-cu12==12.1.105 in /usr4/ba820/pmpatel/.local/lib/python3.10/site-packages (from torch==2.2.2->torchvision) (12.1.105)\n",
      "Requirement already satisfied: nvidia-cudnn-cu12==8.9.2.26 in /usr4/ba820/pmpatel/.local/lib/python3.10/site-packages (from torch==2.2.2->torchvision) (8.9.2.26)\n",
      "Requirement already satisfied: nvidia-cublas-cu12==12.1.3.1 in /usr4/ba820/pmpatel/.local/lib/python3.10/site-packages (from torch==2.2.2->torchvision) (12.1.3.1)\n",
      "Requirement already satisfied: nvidia-cufft-cu12==11.0.2.54 in /usr4/ba820/pmpatel/.local/lib/python3.10/site-packages (from torch==2.2.2->torchvision) (11.0.2.54)\n",
      "Requirement already satisfied: nvidia-curand-cu12==10.3.2.106 in /usr4/ba820/pmpatel/.local/lib/python3.10/site-packages (from torch==2.2.2->torchvision) (10.3.2.106)\n",
      "Requirement already satisfied: nvidia-cusolver-cu12==11.4.5.107 in /usr4/ba820/pmpatel/.local/lib/python3.10/site-packages (from torch==2.2.2->torchvision) (11.4.5.107)\n",
      "Requirement already satisfied: nvidia-cusparse-cu12==12.1.0.106 in /usr4/ba820/pmpatel/.local/lib/python3.10/site-packages (from torch==2.2.2->torchvision) (12.1.0.106)\n",
      "Requirement already satisfied: nvidia-nccl-cu12==2.19.3 in /usr4/ba820/pmpatel/.local/lib/python3.10/site-packages (from torch==2.2.2->torchvision) (2.19.3)\n",
      "Requirement already satisfied: nvidia-nvtx-cu12==12.1.105 in /usr4/ba820/pmpatel/.local/lib/python3.10/site-packages (from torch==2.2.2->torchvision) (12.1.105)\n",
      "Requirement already satisfied: triton==2.2.0 in /usr4/ba820/pmpatel/.local/lib/python3.10/site-packages (from torch==2.2.2->torchvision) (2.2.0)\n",
      "Requirement already satisfied: nvidia-nvjitlink-cu12 in /usr4/ba820/pmpatel/.local/lib/python3.10/site-packages (from nvidia-cusolver-cu12==11.4.5.107->torch==2.2.2->torchvision) (12.4.127)\n",
      "Requirement already satisfied: MarkupSafe>=2.0 in /share/pkg.8/python3/3.10.12/install/lib/python3.10/site-packages (from jinja2->torch==2.2.2->torchvision) (2.1.3)\n",
      "Requirement already satisfied: mpmath>=0.19 in /share/pkg.8/python3/3.10.12/install/lib/python3.10/site-packages (from sympy->torch==2.2.2->torchvision) (1.3.0)\n",
      "\n",
      "\u001b[1m[\u001b[0m\u001b[34;49mnotice\u001b[0m\u001b[1;39;49m]\u001b[0m\u001b[39;49m A new release of pip is available: \u001b[0m\u001b[31;49m23.2.1\u001b[0m\u001b[39;49m -> \u001b[0m\u001b[32;49m24.0\u001b[0m\n",
      "\u001b[1m[\u001b[0m\u001b[34;49mnotice\u001b[0m\u001b[1;39;49m]\u001b[0m\u001b[39;49m To update, run: \u001b[0m\u001b[32;49mpip install --upgrade pip\u001b[0m\n",
      "Defaulting to user installation because normal site-packages is not writeable\n",
      "Requirement already satisfied: torchinfo in /usr4/ba820/pmpatel/.local/lib/python3.10/site-packages (1.8.0)\n",
      "\n",
      "\u001b[1m[\u001b[0m\u001b[34;49mnotice\u001b[0m\u001b[1;39;49m]\u001b[0m\u001b[39;49m A new release of pip is available: \u001b[0m\u001b[31;49m23.2.1\u001b[0m\u001b[39;49m -> \u001b[0m\u001b[32;49m24.0\u001b[0m\n",
      "\u001b[1m[\u001b[0m\u001b[34;49mnotice\u001b[0m\u001b[1;39;49m]\u001b[0m\u001b[39;49m To update, run: \u001b[0m\u001b[32;49mpip install --upgrade pip\u001b[0m\n",
      "Defaulting to user installation because normal site-packages is not writeable\n",
      "Requirement already satisfied: torchmetrics in /usr4/ba820/pmpatel/.local/lib/python3.10/site-packages (1.3.2)\n",
      "Requirement already satisfied: numpy>1.20.0 in /share/pkg.8/python3/3.10.12/install/lib/python3.10/site-packages (from torchmetrics) (1.24.4)\n",
      "Requirement already satisfied: packaging>17.1 in /share/pkg.8/python3/3.10.12/install/lib/python3.10/site-packages (from torchmetrics) (23.1)\n",
      "Requirement already satisfied: torch>=1.10.0 in /usr4/ba820/pmpatel/.local/lib/python3.10/site-packages (from torchmetrics) (2.2.2)\n",
      "Requirement already satisfied: lightning-utilities>=0.8.0 in /usr4/ba820/pmpatel/.local/lib/python3.10/site-packages (from torchmetrics) (0.11.2)\n",
      "Requirement already satisfied: setuptools in /share/pkg.8/python3/3.10.12/install/lib/python3.10/site-packages (from lightning-utilities>=0.8.0->torchmetrics) (65.5.0)\n",
      "Requirement already satisfied: typing-extensions in /usr4/ba820/pmpatel/.local/lib/python3.10/site-packages (from lightning-utilities>=0.8.0->torchmetrics) (4.11.0)\n",
      "Requirement already satisfied: filelock in /share/pkg.8/python3/3.10.12/install/lib/python3.10/site-packages (from torch>=1.10.0->torchmetrics) (3.12.2)\n",
      "Requirement already satisfied: sympy in /share/pkg.8/python3/3.10.12/install/lib/python3.10/site-packages (from torch>=1.10.0->torchmetrics) (1.12)\n",
      "Requirement already satisfied: networkx in /share/pkg.8/python3/3.10.12/install/lib/python3.10/site-packages (from torch>=1.10.0->torchmetrics) (3.1)\n",
      "Requirement already satisfied: jinja2 in /share/pkg.8/python3/3.10.12/install/lib/python3.10/site-packages (from torch>=1.10.0->torchmetrics) (3.1.2)\n",
      "Requirement already satisfied: fsspec in /share/pkg.8/python3/3.10.12/install/lib/python3.10/site-packages (from torch>=1.10.0->torchmetrics) (2023.6.0)\n",
      "Requirement already satisfied: nvidia-cuda-nvrtc-cu12==12.1.105 in /usr4/ba820/pmpatel/.local/lib/python3.10/site-packages (from torch>=1.10.0->torchmetrics) (12.1.105)\n",
      "Requirement already satisfied: nvidia-cuda-runtime-cu12==12.1.105 in /usr4/ba820/pmpatel/.local/lib/python3.10/site-packages (from torch>=1.10.0->torchmetrics) (12.1.105)\n",
      "Requirement already satisfied: nvidia-cuda-cupti-cu12==12.1.105 in /usr4/ba820/pmpatel/.local/lib/python3.10/site-packages (from torch>=1.10.0->torchmetrics) (12.1.105)\n",
      "Requirement already satisfied: nvidia-cudnn-cu12==8.9.2.26 in /usr4/ba820/pmpatel/.local/lib/python3.10/site-packages (from torch>=1.10.0->torchmetrics) (8.9.2.26)\n",
      "Requirement already satisfied: nvidia-cublas-cu12==12.1.3.1 in /usr4/ba820/pmpatel/.local/lib/python3.10/site-packages (from torch>=1.10.0->torchmetrics) (12.1.3.1)\n",
      "Requirement already satisfied: nvidia-cufft-cu12==11.0.2.54 in /usr4/ba820/pmpatel/.local/lib/python3.10/site-packages (from torch>=1.10.0->torchmetrics) (11.0.2.54)\n",
      "Requirement already satisfied: nvidia-curand-cu12==10.3.2.106 in /usr4/ba820/pmpatel/.local/lib/python3.10/site-packages (from torch>=1.10.0->torchmetrics) (10.3.2.106)\n",
      "Requirement already satisfied: nvidia-cusolver-cu12==11.4.5.107 in /usr4/ba820/pmpatel/.local/lib/python3.10/site-packages (from torch>=1.10.0->torchmetrics) (11.4.5.107)\n",
      "Requirement already satisfied: nvidia-cusparse-cu12==12.1.0.106 in /usr4/ba820/pmpatel/.local/lib/python3.10/site-packages (from torch>=1.10.0->torchmetrics) (12.1.0.106)\n",
      "Requirement already satisfied: nvidia-nccl-cu12==2.19.3 in /usr4/ba820/pmpatel/.local/lib/python3.10/site-packages (from torch>=1.10.0->torchmetrics) (2.19.3)\n",
      "Requirement already satisfied: nvidia-nvtx-cu12==12.1.105 in /usr4/ba820/pmpatel/.local/lib/python3.10/site-packages (from torch>=1.10.0->torchmetrics) (12.1.105)\n",
      "Requirement already satisfied: triton==2.2.0 in /usr4/ba820/pmpatel/.local/lib/python3.10/site-packages (from torch>=1.10.0->torchmetrics) (2.2.0)\n",
      "Requirement already satisfied: nvidia-nvjitlink-cu12 in /usr4/ba820/pmpatel/.local/lib/python3.10/site-packages (from nvidia-cusolver-cu12==11.4.5.107->torch>=1.10.0->torchmetrics) (12.4.127)\n",
      "Requirement already satisfied: MarkupSafe>=2.0 in /share/pkg.8/python3/3.10.12/install/lib/python3.10/site-packages (from jinja2->torch>=1.10.0->torchmetrics) (2.1.3)\n",
      "Requirement already satisfied: mpmath>=0.19 in /share/pkg.8/python3/3.10.12/install/lib/python3.10/site-packages (from sympy->torch>=1.10.0->torchmetrics) (1.3.0)\n",
      "\n",
      "\u001b[1m[\u001b[0m\u001b[34;49mnotice\u001b[0m\u001b[1;39;49m]\u001b[0m\u001b[39;49m A new release of pip is available: \u001b[0m\u001b[31;49m23.2.1\u001b[0m\u001b[39;49m -> \u001b[0m\u001b[32;49m24.0\u001b[0m\n",
      "\u001b[1m[\u001b[0m\u001b[34;49mnotice\u001b[0m\u001b[1;39;49m]\u001b[0m\u001b[39;49m To update, run: \u001b[0m\u001b[32;49mpip install --upgrade pip\u001b[0m\n",
      "Defaulting to user installation because normal site-packages is not writeable\n",
      "\u001b[31mERROR: You must give at least one requirement to install (see \"pip help install\")\u001b[0m\u001b[31m\n",
      "\u001b[0m\n",
      "\u001b[1m[\u001b[0m\u001b[34;49mnotice\u001b[0m\u001b[1;39;49m]\u001b[0m\u001b[39;49m A new release of pip is available: \u001b[0m\u001b[31;49m23.2.1\u001b[0m\u001b[39;49m -> \u001b[0m\u001b[32;49m24.0\u001b[0m\n",
      "\u001b[1m[\u001b[0m\u001b[34;49mnotice\u001b[0m\u001b[1;39;49m]\u001b[0m\u001b[39;49m To update, run: \u001b[0m\u001b[32;49mpip install --upgrade pip\u001b[0m\n",
      "\n",
      "\u001b[1m[\u001b[0m\u001b[34;49mnotice\u001b[0m\u001b[1;39;49m]\u001b[0m\u001b[39;49m A new release of pip is available: \u001b[0m\u001b[31;49m23.2.1\u001b[0m\u001b[39;49m -> \u001b[0m\u001b[32;49m24.0\u001b[0m\n",
      "\u001b[1m[\u001b[0m\u001b[34;49mnotice\u001b[0m\u001b[1;39;49m]\u001b[0m\u001b[39;49m To update, run: \u001b[0m\u001b[32;49mpip install --upgrade pip\u001b[0m\n"
     ]
    }
   ],
   "source": [
    "!pip install torchvision\n",
    "!pip install torchinfo\n",
    "!pip install torchmetrics\n",
    "!pip install\n",
    "!pip install wandb -qU"
   ]
  },
  {
   "cell_type": "code",
   "execution_count": 2,
   "id": "96971061",
   "metadata": {},
   "outputs": [],
   "source": [
    "import pandas as pd\n",
    "import numpy as np\n",
    "import torch\n",
    "import torch.nn as nn\n",
    "import torch.optim as optim\n",
    "from torchvision import datasets, transforms\n",
    "import torchvision\n",
    "from torch.utils.data import DataLoader, random_split\n",
    "from torch.utils.data import DataLoader, Dataset,WeightedRandomSampler,Subset\n",
    "import torchvision.transforms as T\n",
    "import torch\n",
    "import torch.nn as nn\n",
    "from torchvision.utils import make_grid\n",
    "from torchvision.utils import save_image\n",
    "from IPython.display import Image\n",
    "import matplotlib.pyplot as plt\n",
    "import numpy as np\n",
    "import random\n",
    "import torchmetrics\n",
    "from torchinfo import summary\n",
    "import torchvision.models as models\n",
    "%matplotlib inline"
   ]
  },
  {
   "cell_type": "code",
   "execution_count": 3,
   "id": "9fee8d5f",
   "metadata": {},
   "outputs": [],
   "source": [
    "configs = {\n",
    "    \"experiment_name\": \"Baseline\",\n",
    "    \"freeze_feature_extraction_layers\": False,\n",
    "    \"pretrained\":False,\n",
    "    \"efficientnet\":False, # off-> Resnet18\n",
    "    \"data_augmentation\":True,\n",
    "    \"transferlearning\": False,\n",
    "\n",
    "    # Data\n",
    "    \"img_dimensions\" : (3,448,600),\n",
    "    \"batch_size\" : 32,\n",
    "    \"num_classes\" : 5,\n",
    "\n",
    "    # CNN\n",
    "    \"filter_sizes\" : [4,8,16],\n",
    "    \"kernel_size\" : 5,\n",
    "    \"stride\": 1,\n",
    "    \"padding\":0,\n",
    "\n",
    "    #Optimzation\n",
    "    \"learning_rate\" : 0.001,\n",
    "    \"epochs\" : 10,\n",
    "    \"weight_decay\" : 0.00001,\n",
    "    \"patience\" : 5\n",
    "}"
   ]
  },
  {
   "cell_type": "code",
   "execution_count": 23,
   "id": "db333e73",
   "metadata": {},
   "outputs": [],
   "source": [
    "# Data Load\n",
    "\n",
    "\n",
    "training_path = \"Disease Grading/1. Original Images/a. Training Directory\"\n",
    "testing_path = \"Disease Grading/1. Original Images/b. Testing Directory\"\n",
    "\n",
    "transform = transforms.Compose([\n",
    "        transforms.RandomHorizontalFlip(0.5),\n",
    "        transforms.Resize([448, 600]),\n",
    "#         transforms.Pad((0, 20, 0, 20)),\n",
    "        transforms.RandomRotation(20),\n",
    "#         tranforms.WeightedRandomSampler()\n",
    "        transforms.ToTensor(),\n",
    "        transforms.Normalize(mean=[0.5944, 0.2908, 0.0962], std=[0.2047, 0.1284, 0.0866])\n",
    "    ])\n",
    "        \n",
    "test_transform = transforms.Compose([\n",
    "            transforms.Resize(([448, 600])),\n",
    "            transforms.ToTensor()\n",
    "            ])\n",
    "\n",
    "train_dataset = torchvision.datasets.ImageFolder(training_path, transform = transform)\n",
    "train_dataset, val_dataset = random_split(train_dataset, [0.8, 0.2])\n",
    "test_dataset = torchvision.datasets.ImageFolder(testing_path, transform = test_transform)\n",
    "\n",
    "# Data loaders\n",
    "train_loader = DataLoader(dataset=train_dataset, batch_size = configs[\"batch_size\"], shuffle=True)\n",
    "val_loader = DataLoader(dataset=val_dataset, batch_size = configs[\"batch_size\"], shuffle=False)\n",
    "test_loader = DataLoader(dataset=test_dataset, batch_size = configs[\"batch_size\"], shuffle=False)\n",
    "\n",
    "\n",
    "labels_training = pd.read_csv(\"Disease Grading/2. Groundtruths/a. IDRiD_Disease Grading_Training Labels.csv\")\n",
    "labels_testing = pd.read_csv(\"Disease Grading/2. Groundtruths/b. IDRiD_Disease Grading_Testing Labels.csv\")\n",
    "labels_training.dropna(axis = 1, inplace = True)"
   ]
  },
  {
   "cell_type": "code",
   "execution_count": 25,
   "id": "1c33d97f",
   "metadata": {},
   "outputs": [
    {
     "data": {
      "image/png": "[encoded data removed]",
      "text/plain": [
       "<Figure size 800x800 with 3 Axes>"
      ]
     },
     "metadata": {},
     "output_type": "display_data"
    }
   ],
   "source": [
    "## Visualise transformations:\n",
    "# Unnormalised Transform\n",
    "\n",
    "\n",
    "import matplotlib.pyplot as plt\n",
    "import torch\n",
    "from torchvision import transforms\n",
    "\n",
    "\n",
    "plt.figure(figsize=(8, 8))\n",
    "\n",
    "iterator = iter(train_loader)\n",
    "for i in range(3):\n",
    "    plt.subplot(1, 3, i+1)\n",
    "    image, _ = next(iterator)\n",
    "    \n",
    "    mean = torch.tensor([0.5944, 0.2908, 0.0962]).reshape(1, 1, 3)\n",
    "    std = torch.tensor([0.2047, 0.1284, 0.0866]).reshape(1, 1, 3)\n",
    "    \n",
    "    image_unnormalized = (image[i].permute(1, 2, 0) * std + mean).clamp(0, 1)\n",
    "    \n",
    "    plt.imshow(image_unnormalized)\n",
    "    plt.axis('off')\n",
    "\n",
    "plt.tight_layout()\n",
    "plt.show()"
   ]
  },
  {
   "cell_type": "markdown",
   "id": "50eeee58",
   "metadata": {},
   "source": [
    "## CNN Hyper-parameter Sweeps"
   ]
  },
  {
   "cell_type": "code",
   "execution_count": 6,
   "id": "82472449",
   "metadata": {},
   "outputs": [
    {
     "data": {
      "text/plain": [
       "==========================================================================================\n",
       "Layer (type:depth-idx)                   Output Shape              Param #\n",
       "==========================================================================================\n",
       "CNN                                      [32, 5]                   --\n",
       "├─Sequential: 1-1                        [32, 5]                   --\n",
       "│    └─Conv2d: 2-1                       [4, 446, 498]             112\n",
       "│    └─ReLU: 2-2                         [4, 446, 498]             --\n",
       "│    └─Conv2d: 2-3                       [8, 444, 496]             296\n",
       "│    └─ReLU: 2-4                         [8, 444, 496]             --\n",
       "│    └─Conv2d: 2-5                       [16, 442, 494]            1,168\n",
       "│    └─ReLU: 2-6                         [16, 442, 494]            --\n",
       "│    └─MaxPool2d: 2-7                    [16, 221, 247]            --\n",
       "│    └─Conv2d: 2-8                       [32, 219, 245]            4,640\n",
       "│    └─MaxPool2d: 2-9                    [32, 109, 122]            --\n",
       "│    └─Flatten: 2-10                     [32, 13298]               --\n",
       "│    └─Linear: 2-11                      [32, 5]                   66,495\n",
       "==========================================================================================\n",
       "Total params: 72,711\n",
       "Trainable params: 72,711\n",
       "Non-trainable params: 0\n",
       "Total mult-adds (M): 49.13\n",
       "==========================================================================================\n",
       "Input size (MB): 2.69\n",
       "Forward/backward pass size (MB): 62.89\n",
       "Params size (MB): 0.29\n",
       "Estimated Total Size (MB): 65.87\n",
       "=========================================================================================="
      ]
     },
     "execution_count": 6,
     "metadata": {},
     "output_type": "execute_result"
    }
   ],
   "source": [
    "class CNN(nn.Module):\n",
    "    def __init__(self, kernel_size, output_size):\n",
    "        super(CNN, self).__init__()\n",
    "        self.model = nn.Sequential(\n",
    "            torch.nn.Conv2d(3, 4, kernel_size),\n",
    "            torch.nn.ReLU(),\n",
    "            torch.nn.Conv2d(4, 8, kernel_size),\n",
    "            torch.nn.ReLU(),\n",
    "#             torch.nn.MaxPool2d(2),\n",
    "            torch.nn.Conv2d(8, 16, kernel_size),\n",
    "            torch.nn.ReLU(),\n",
    "            torch.nn.MaxPool2d(2),\n",
    "            torch.nn.Conv2d(16, 32, kernel_size),\n",
    "            torch.nn.MaxPool2d(2),\n",
    "            nn.Flatten(),\n",
    "            nn.LazyLinear(output_size) \n",
    "        )\n",
    "\n",
    "    def forward(self, x):\n",
    "        return self.model(x)\n",
    "    \n",
    "model = CNN(3,5)\n",
    "\n",
    "summary(model,(3,448,500))"
   ]
  },
  {
   "cell_type": "code",
   "execution_count": 4,
   "id": "d8908c02",
   "metadata": {
    "scrolled": false
   },
   "outputs": [
    {
     "name": "stderr",
     "output_type": "stream",
     "text": [
      "Failed to detect the name of this notebook, you can set it manually with the WANDB_NOTEBOOK_NAME environment variable to enable code saving.\n",
      "\u001b[34m\u001b[1mwandb\u001b[0m: Currently logged in as: \u001b[33mpmpatel\u001b[0m (\u001b[33mpmpbu\u001b[0m). Use \u001b[1m`wandb login --relogin`\u001b[0m to force relogin\n"
     ]
    },
    {
     "name": "stdout",
     "output_type": "stream",
     "text": [
      "Create sweep with ID: cdc2wfby\n",
      "Sweep URL: https://wandb.ai/pmpbu/grp4/sweeps/cdc2wfby\n"
     ]
    },
    {
     "name": "stderr",
     "output_type": "stream",
     "text": [
      "\u001b[34m\u001b[1mwandb\u001b[0m: Agent Starting Run: c9blca21 with config:\n",
      "\u001b[34m\u001b[1mwandb\u001b[0m: \tbatch_size: 64\n",
      "\u001b[34m\u001b[1mwandb\u001b[0m: \tkernel_size: 2\n",
      "\u001b[34m\u001b[1mwandb\u001b[0m: \tlearning_rate: 0.01\n",
      "Failed to detect the name of this notebook, you can set it manually with the WANDB_NOTEBOOK_NAME environment variable to enable code saving.\n"
     ]
    },
    {
     "data": {
      "text/html": [
       "Tracking run with wandb version 0.16.6"
      ],
      "text/plain": [
       "<IPython.core.display.HTML object>"
      ]
     },
     "metadata": {},
     "output_type": "display_data"
    },
    {
     "data": {
      "text/html": [
       "Run data is saved locally in <code>/projectnb/ba865/students/pmpatel/wandb/run-20240425_193640-c9blca21</code>"
      ],
      "text/plain": [
       "<IPython.core.display.HTML object>"
      ]
     },
     "metadata": {},
     "output_type": "display_data"
    },
    {
     "data": {
      "text/html": [
       "Syncing run <strong><a href='https://wandb.ai/pmpbu/grp4/runs/c9blca21' target=\"_blank\">dauntless-sweep-1</a></strong> to <a href='https://wandb.ai/pmpbu/grp4' target=\"_blank\">Weights & Biases</a> (<a href='https://wandb.me/run' target=\"_blank\">docs</a>)<br/>Sweep page: <a href='https://wandb.ai/pmpbu/grp4/sweeps/cdc2wfby' target=\"_blank\">https://wandb.ai/pmpbu/grp4/sweeps/cdc2wfby</a>"
      ],
      "text/plain": [
       "<IPython.core.display.HTML object>"
      ]
     },
     "metadata": {},
     "output_type": "display_data"
    },
    {
     "data": {
      "text/html": [
       " View project at <a href='https://wandb.ai/pmpbu/grp4' target=\"_blank\">https://wandb.ai/pmpbu/grp4</a>"
      ],
      "text/plain": [
       "<IPython.core.display.HTML object>"
      ]
     },
     "metadata": {},
     "output_type": "display_data"
    },
    {
     "data": {
      "text/html": [
       " View sweep at <a href='https://wandb.ai/pmpbu/grp4/sweeps/cdc2wfby' target=\"_blank\">https://wandb.ai/pmpbu/grp4/sweeps/cdc2wfby</a>"
      ],
      "text/plain": [
       "<IPython.core.display.HTML object>"
      ]
     },
     "metadata": {},
     "output_type": "display_data"
    },
    {
     "data": {
      "text/html": [
       " View run at <a href='https://wandb.ai/pmpbu/grp4/runs/c9blca21' target=\"_blank\">https://wandb.ai/pmpbu/grp4/runs/c9blca21</a>"
      ],
      "text/plain": [
       "<IPython.core.display.HTML object>"
      ]
     },
     "metadata": {},
     "output_type": "display_data"
    },
    {
     "name": "stderr",
     "output_type": "stream",
     "text": [
      "/usr4/ba820/pmpatel/.local/lib/python3.10/site-packages/torch/nn/modules/lazy.py:181: UserWarning: Lazy modules are a new feature under heavy development so changes to the API or functionality can happen at any moment.\n",
      "  warnings.warn('Lazy modules are a new feature under heavy development '\n",
      "/usr4/ba820/pmpatel/.local/lib/python3.10/site-packages/torch/autograd/__init__.py:266: UserWarning: CUDA initialization: The NVIDIA driver on your system is too old (found version 11040). Please update your GPU driver by downloading and installing a new version from the URL: http://www.nvidia.com/Download/index.aspx Alternatively, go to: https://pytorch.org to install a PyTorch version that has been compiled with your version of the CUDA driver. (Triggered internally at ../c10/cuda/CUDAFunctions.cpp:108.)\n",
      "  Variable._execution_engine.run_backward(  # Calls into the C++ engine to run the backward pass\n"
     ]
    },
    {
     "name": "stdout",
     "output_type": "stream",
     "text": [
      "Epoch [1/10], Loss: 124.1694\n",
      "Epoch [2/10], Loss: 85.3107\n",
      "Epoch [3/10], Loss: 48.7520\n",
      "Epoch [4/10], Loss: 24.2817\n",
      "Epoch [5/10], Loss: 18.6442\n",
      "Epoch [6/10], Loss: 13.4917\n",
      "Epoch [7/10], Loss: 13.1879\n",
      "Epoch [8/10], Loss: 7.5106\n",
      "Epoch [9/10], Loss: 4.4849\n",
      "Epoch [10/10], Loss: 3.5747\n",
      "Validation Accuracy: 29.27%\n",
      "Test Accuracy: 18.45%\n"
     ]
    },
    {
     "data": {
      "application/vnd.jupyter.widget-view+json": {
       "model_id": "a1e57d78f02842428f6e25b3b94e28cb",
       "version_major": 2,
       "version_minor": 0
      },
      "text/plain": [
       "VBox(children=(Label(value='0.003 MB of 0.003 MB uploaded\\r'), FloatProgress(value=1.0, max=1.0)))"
      ]
     },
     "metadata": {},
     "output_type": "display_data"
    },
    {
     "data": {
      "text/html": [
       "<style>\n",
       "    table.wandb td:nth-child(1) { padding: 0 10px; text-align: left ; width: auto;} td:nth-child(2) {text-align: left ; width: 100%}\n",
       "    .wandb-row { display: flex; flex-direction: row; flex-wrap: wrap; justify-content: flex-start; width: 100% }\n",
       "    .wandb-col { display: flex; flex-direction: column; flex-basis: 100%; flex: 1; padding: 10px; }\n",
       "    </style>\n",
       "<div class=\"wandb-row\"><div class=\"wandb-col\"><h3>Run summary:</h3><br/><table class=\"wandb\"><tr><td>test_accuracy</td><td>18.4466</td></tr><tr><td>val_accuracy</td><td>29.26829</td></tr></table><br/></div></div>"
      ],
      "text/plain": [
       "<IPython.core.display.HTML object>"
      ]
     },
     "metadata": {},
     "output_type": "display_data"
    },
    {
     "data": {
      "text/html": [
       " View run <strong style=\"color:#cdcd00\">dauntless-sweep-1</strong> at: <a href='https://wandb.ai/pmpbu/grp4/runs/c9blca21' target=\"_blank\">https://wandb.ai/pmpbu/grp4/runs/c9blca21</a><br/> View project at: <a href='https://wandb.ai/pmpbu/grp4' target=\"_blank\">https://wandb.ai/pmpbu/grp4</a><br/>Synced 5 W&B file(s), 0 media file(s), 0 artifact file(s) and 0 other file(s)"
      ],
      "text/plain": [
       "<IPython.core.display.HTML object>"
      ]
     },
     "metadata": {},
     "output_type": "display_data"
    },
    {
     "data": {
      "text/html": [
       "Find logs at: <code>./wandb/run-20240425_193640-c9blca21/logs</code>"
      ],
      "text/plain": [
       "<IPython.core.display.HTML object>"
      ]
     },
     "metadata": {},
     "output_type": "display_data"
    },
    {
     "name": "stderr",
     "output_type": "stream",
     "text": [
      "\u001b[34m\u001b[1mwandb\u001b[0m: Agent Starting Run: rstu7nyz with config:\n",
      "\u001b[34m\u001b[1mwandb\u001b[0m: \tbatch_size: 64\n",
      "\u001b[34m\u001b[1mwandb\u001b[0m: \tkernel_size: 2\n",
      "\u001b[34m\u001b[1mwandb\u001b[0m: \tlearning_rate: 0.001\n",
      "Failed to detect the name of this notebook, you can set it manually with the WANDB_NOTEBOOK_NAME environment variable to enable code saving.\n"
     ]
    },
    {
     "data": {
      "text/html": [
       "Tracking run with wandb version 0.16.6"
      ],
      "text/plain": [
       "<IPython.core.display.HTML object>"
      ]
     },
     "metadata": {},
     "output_type": "display_data"
    },
    {
     "data": {
      "text/html": [
       "Run data is saved locally in <code>/projectnb/ba865/students/pmpatel/wandb/run-20240425_195200-rstu7nyz</code>"
      ],
      "text/plain": [
       "<IPython.core.display.HTML object>"
      ]
     },
     "metadata": {},
     "output_type": "display_data"
    },
    {
     "data": {
      "text/html": [
       "Syncing run <strong><a href='https://wandb.ai/pmpbu/grp4/runs/rstu7nyz' target=\"_blank\">stoic-sweep-2</a></strong> to <a href='https://wandb.ai/pmpbu/grp4' target=\"_blank\">Weights & Biases</a> (<a href='https://wandb.me/run' target=\"_blank\">docs</a>)<br/>Sweep page: <a href='https://wandb.ai/pmpbu/grp4/sweeps/cdc2wfby' target=\"_blank\">https://wandb.ai/pmpbu/grp4/sweeps/cdc2wfby</a>"
      ],
      "text/plain": [
       "<IPython.core.display.HTML object>"
      ]
     },
     "metadata": {},
     "output_type": "display_data"
    },
    {
     "data": {
      "text/html": [
       " View project at <a href='https://wandb.ai/pmpbu/grp4' target=\"_blank\">https://wandb.ai/pmpbu/grp4</a>"
      ],
      "text/plain": [
       "<IPython.core.display.HTML object>"
      ]
     },
     "metadata": {},
     "output_type": "display_data"
    },
    {
     "data": {
      "text/html": [
       " View sweep at <a href='https://wandb.ai/pmpbu/grp4/sweeps/cdc2wfby' target=\"_blank\">https://wandb.ai/pmpbu/grp4/sweeps/cdc2wfby</a>"
      ],
      "text/plain": [
       "<IPython.core.display.HTML object>"
      ]
     },
     "metadata": {},
     "output_type": "display_data"
    },
    {
     "data": {
      "text/html": [
       " View run at <a href='https://wandb.ai/pmpbu/grp4/runs/rstu7nyz' target=\"_blank\">https://wandb.ai/pmpbu/grp4/runs/rstu7nyz</a>"
      ],
      "text/plain": [
       "<IPython.core.display.HTML object>"
      ]
     },
     "metadata": {},
     "output_type": "display_data"
    },
    {
     "name": "stdout",
     "output_type": "stream",
     "text": [
      "Epoch [1/10], Loss: 18.7849\n",
      "Epoch [2/10], Loss: 7.8827\n",
      "Epoch [3/10], Loss: 5.4175\n",
      "Epoch [4/10], Loss: 4.6224\n",
      "Epoch [5/10], Loss: 2.5557\n",
      "Epoch [6/10], Loss: 1.9986\n",
      "Epoch [7/10], Loss: 1.5299\n",
      "Epoch [8/10], Loss: 1.5335\n",
      "Epoch [9/10], Loss: 1.4086\n",
      "Epoch [10/10], Loss: 1.3764\n",
      "Validation Accuracy: 42.68%\n",
      "Test Accuracy: 33.01%\n"
     ]
    },
    {
     "data": {
      "application/vnd.jupyter.widget-view+json": {
       "model_id": "7c70f8fc13dc4ca0ae77037291a997ec",
       "version_major": 2,
       "version_minor": 0
      },
      "text/plain": [
       "VBox(children=(Label(value='0.003 MB of 0.003 MB uploaded\\r'), FloatProgress(value=1.0, max=1.0)))"
      ]
     },
     "metadata": {},
     "output_type": "display_data"
    },
    {
     "data": {
      "text/html": [
       "<style>\n",
       "    table.wandb td:nth-child(1) { padding: 0 10px; text-align: left ; width: auto;} td:nth-child(2) {text-align: left ; width: 100%}\n",
       "    .wandb-row { display: flex; flex-direction: row; flex-wrap: wrap; justify-content: flex-start; width: 100% }\n",
       "    .wandb-col { display: flex; flex-direction: column; flex-basis: 100%; flex: 1; padding: 10px; }\n",
       "    </style>\n",
       "<div class=\"wandb-row\"><div class=\"wandb-col\"><h3>Run summary:</h3><br/><table class=\"wandb\"><tr><td>test_accuracy</td><td>33.00971</td></tr><tr><td>val_accuracy</td><td>42.68293</td></tr></table><br/></div></div>"
      ],
      "text/plain": [
       "<IPython.core.display.HTML object>"
      ]
     },
     "metadata": {},
     "output_type": "display_data"
    },
    {
     "data": {
      "text/html": [
       " View run <strong style=\"color:#cdcd00\">stoic-sweep-2</strong> at: <a href='https://wandb.ai/pmpbu/grp4/runs/rstu7nyz' target=\"_blank\">https://wandb.ai/pmpbu/grp4/runs/rstu7nyz</a><br/> View project at: <a href='https://wandb.ai/pmpbu/grp4' target=\"_blank\">https://wandb.ai/pmpbu/grp4</a><br/>Synced 5 W&B file(s), 0 media file(s), 0 artifact file(s) and 0 other file(s)"
      ],
      "text/plain": [
       "<IPython.core.display.HTML object>"
      ]
     },
     "metadata": {},
     "output_type": "display_data"
    },
    {
     "data": {
      "text/html": [
       "Find logs at: <code>./wandb/run-20240425_195200-rstu7nyz/logs</code>"
      ],
      "text/plain": [
       "<IPython.core.display.HTML object>"
      ]
     },
     "metadata": {},
     "output_type": "display_data"
    },
    {
     "name": "stderr",
     "output_type": "stream",
     "text": [
      "\u001b[34m\u001b[1mwandb\u001b[0m: Agent Starting Run: 6yln3xkm with config:\n",
      "\u001b[34m\u001b[1mwandb\u001b[0m: \tbatch_size: 64\n",
      "\u001b[34m\u001b[1mwandb\u001b[0m: \tkernel_size: 2\n",
      "\u001b[34m\u001b[1mwandb\u001b[0m: \tlearning_rate: 0.0001\n",
      "Failed to detect the name of this notebook, you can set it manually with the WANDB_NOTEBOOK_NAME environment variable to enable code saving.\n"
     ]
    },
    {
     "data": {
      "text/html": [
       "Tracking run with wandb version 0.16.6"
      ],
      "text/plain": [
       "<IPython.core.display.HTML object>"
      ]
     },
     "metadata": {},
     "output_type": "display_data"
    },
    {
     "data": {
      "text/html": [
       "Run data is saved locally in <code>/projectnb/ba865/students/pmpatel/wandb/run-20240425_200657-6yln3xkm</code>"
      ],
      "text/plain": [
       "<IPython.core.display.HTML object>"
      ]
     },
     "metadata": {},
     "output_type": "display_data"
    },
    {
     "data": {
      "text/html": [
       "Syncing run <strong><a href='https://wandb.ai/pmpbu/grp4/runs/6yln3xkm' target=\"_blank\">sparkling-sweep-3</a></strong> to <a href='https://wandb.ai/pmpbu/grp4' target=\"_blank\">Weights & Biases</a> (<a href='https://wandb.me/run' target=\"_blank\">docs</a>)<br/>Sweep page: <a href='https://wandb.ai/pmpbu/grp4/sweeps/cdc2wfby' target=\"_blank\">https://wandb.ai/pmpbu/grp4/sweeps/cdc2wfby</a>"
      ],
      "text/plain": [
       "<IPython.core.display.HTML object>"
      ]
     },
     "metadata": {},
     "output_type": "display_data"
    },
    {
     "data": {
      "text/html": [
       " View project at <a href='https://wandb.ai/pmpbu/grp4' target=\"_blank\">https://wandb.ai/pmpbu/grp4</a>"
      ],
      "text/plain": [
       "<IPython.core.display.HTML object>"
      ]
     },
     "metadata": {},
     "output_type": "display_data"
    },
    {
     "data": {
      "text/html": [
       " View sweep at <a href='https://wandb.ai/pmpbu/grp4/sweeps/cdc2wfby' target=\"_blank\">https://wandb.ai/pmpbu/grp4/sweeps/cdc2wfby</a>"
      ],
      "text/plain": [
       "<IPython.core.display.HTML object>"
      ]
     },
     "metadata": {},
     "output_type": "display_data"
    },
    {
     "data": {
      "text/html": [
       " View run at <a href='https://wandb.ai/pmpbu/grp4/runs/6yln3xkm' target=\"_blank\">https://wandb.ai/pmpbu/grp4/runs/6yln3xkm</a>"
      ],
      "text/plain": [
       "<IPython.core.display.HTML object>"
      ]
     },
     "metadata": {},
     "output_type": "display_data"
    },
    {
     "name": "stdout",
     "output_type": "stream",
     "text": [
      "Epoch [1/10], Loss: 2.4008\n",
      "Epoch [2/10], Loss: 2.0116\n",
      "Epoch [3/10], Loss: 1.8223\n",
      "Epoch [4/10], Loss: 1.6451\n",
      "Epoch [5/10], Loss: 1.8360\n",
      "Epoch [6/10], Loss: 1.6699\n",
      "Epoch [7/10], Loss: 1.5870\n",
      "Epoch [8/10], Loss: 1.4970\n",
      "Epoch [9/10], Loss: 1.4027\n",
      "Epoch [10/10], Loss: 1.3758\n",
      "Validation Accuracy: 41.46%\n",
      "Test Accuracy: 31.07%\n"
     ]
    },
    {
     "data": {
      "application/vnd.jupyter.widget-view+json": {
       "model_id": "837f7ea911a44c33adc1beff618bcd9d",
       "version_major": 2,
       "version_minor": 0
      },
      "text/plain": [
       "VBox(children=(Label(value='0.003 MB of 0.003 MB uploaded\\r'), FloatProgress(value=1.0, max=1.0)))"
      ]
     },
     "metadata": {},
     "output_type": "display_data"
    },
    {
     "data": {
      "text/html": [
       "<style>\n",
       "    table.wandb td:nth-child(1) { padding: 0 10px; text-align: left ; width: auto;} td:nth-child(2) {text-align: left ; width: 100%}\n",
       "    .wandb-row { display: flex; flex-direction: row; flex-wrap: wrap; justify-content: flex-start; width: 100% }\n",
       "    .wandb-col { display: flex; flex-direction: column; flex-basis: 100%; flex: 1; padding: 10px; }\n",
       "    </style>\n",
       "<div class=\"wandb-row\"><div class=\"wandb-col\"><h3>Run summary:</h3><br/><table class=\"wandb\"><tr><td>test_accuracy</td><td>31.06796</td></tr><tr><td>val_accuracy</td><td>41.46341</td></tr></table><br/></div></div>"
      ],
      "text/plain": [
       "<IPython.core.display.HTML object>"
      ]
     },
     "metadata": {},
     "output_type": "display_data"
    },
    {
     "data": {
      "text/html": [
       " View run <strong style=\"color:#cdcd00\">sparkling-sweep-3</strong> at: <a href='https://wandb.ai/pmpbu/grp4/runs/6yln3xkm' target=\"_blank\">https://wandb.ai/pmpbu/grp4/runs/6yln3xkm</a><br/> View project at: <a href='https://wandb.ai/pmpbu/grp4' target=\"_blank\">https://wandb.ai/pmpbu/grp4</a><br/>Synced 5 W&B file(s), 0 media file(s), 0 artifact file(s) and 0 other file(s)"
      ],
      "text/plain": [
       "<IPython.core.display.HTML object>"
      ]
     },
     "metadata": {},
     "output_type": "display_data"
    },
    {
     "data": {
      "text/html": [
       "Find logs at: <code>./wandb/run-20240425_200657-6yln3xkm/logs</code>"
      ],
      "text/plain": [
       "<IPython.core.display.HTML object>"
      ]
     },
     "metadata": {},
     "output_type": "display_data"
    },
    {
     "name": "stderr",
     "output_type": "stream",
     "text": [
      "\u001b[34m\u001b[1mwandb\u001b[0m: Agent Starting Run: cp9mz2ya with config:\n",
      "\u001b[34m\u001b[1mwandb\u001b[0m: \tbatch_size: 64\n",
      "\u001b[34m\u001b[1mwandb\u001b[0m: \tkernel_size: 3\n",
      "\u001b[34m\u001b[1mwandb\u001b[0m: \tlearning_rate: 0.01\n",
      "Failed to detect the name of this notebook, you can set it manually with the WANDB_NOTEBOOK_NAME environment variable to enable code saving.\n"
     ]
    },
    {
     "data": {
      "text/html": [
       "Tracking run with wandb version 0.16.6"
      ],
      "text/plain": [
       "<IPython.core.display.HTML object>"
      ]
     },
     "metadata": {},
     "output_type": "display_data"
    },
    {
     "data": {
      "text/html": [
       "Run data is saved locally in <code>/projectnb/ba865/students/pmpatel/wandb/run-20240425_202149-cp9mz2ya</code>"
      ],
      "text/plain": [
       "<IPython.core.display.HTML object>"
      ]
     },
     "metadata": {},
     "output_type": "display_data"
    },
    {
     "data": {
      "text/html": [
       "Syncing run <strong><a href='https://wandb.ai/pmpbu/grp4/runs/cp9mz2ya' target=\"_blank\">worldly-sweep-4</a></strong> to <a href='https://wandb.ai/pmpbu/grp4' target=\"_blank\">Weights & Biases</a> (<a href='https://wandb.me/run' target=\"_blank\">docs</a>)<br/>Sweep page: <a href='https://wandb.ai/pmpbu/grp4/sweeps/cdc2wfby' target=\"_blank\">https://wandb.ai/pmpbu/grp4/sweeps/cdc2wfby</a>"
      ],
      "text/plain": [
       "<IPython.core.display.HTML object>"
      ]
     },
     "metadata": {},
     "output_type": "display_data"
    },
    {
     "data": {
      "text/html": [
       " View project at <a href='https://wandb.ai/pmpbu/grp4' target=\"_blank\">https://wandb.ai/pmpbu/grp4</a>"
      ],
      "text/plain": [
       "<IPython.core.display.HTML object>"
      ]
     },
     "metadata": {},
     "output_type": "display_data"
    },
    {
     "data": {
      "text/html": [
       " View sweep at <a href='https://wandb.ai/pmpbu/grp4/sweeps/cdc2wfby' target=\"_blank\">https://wandb.ai/pmpbu/grp4/sweeps/cdc2wfby</a>"
      ],
      "text/plain": [
       "<IPython.core.display.HTML object>"
      ]
     },
     "metadata": {},
     "output_type": "display_data"
    },
    {
     "data": {
      "text/html": [
       " View run at <a href='https://wandb.ai/pmpbu/grp4/runs/cp9mz2ya' target=\"_blank\">https://wandb.ai/pmpbu/grp4/runs/cp9mz2ya</a>"
      ],
      "text/plain": [
       "<IPython.core.display.HTML object>"
      ]
     },
     "metadata": {},
     "output_type": "display_data"
    },
    {
     "name": "stdout",
     "output_type": "stream",
     "text": [
      "Epoch [1/10], Loss: 108.8311\n",
      "Epoch [2/10], Loss: 83.2681\n",
      "Epoch [3/10], Loss: 52.6990\n",
      "Epoch [4/10], Loss: 32.4784\n",
      "Epoch [5/10], Loss: 27.8430\n",
      "Epoch [6/10], Loss: 17.5871\n",
      "Epoch [7/10], Loss: 17.2707\n",
      "Epoch [8/10], Loss: 12.8583\n",
      "Epoch [9/10], Loss: 11.9472\n",
      "Epoch [10/10], Loss: 6.2103\n",
      "Validation Accuracy: 32.93%\n",
      "Test Accuracy: 31.07%\n"
     ]
    },
    {
     "data": {
      "application/vnd.jupyter.widget-view+json": {
       "model_id": "ed570e604a094e1baccd5043f36b32ce",
       "version_major": 2,
       "version_minor": 0
      },
      "text/plain": [
       "VBox(children=(Label(value='0.003 MB of 0.003 MB uploaded\\r'), FloatProgress(value=1.0, max=1.0)))"
      ]
     },
     "metadata": {},
     "output_type": "display_data"
    },
    {
     "data": {
      "text/html": [
       "<style>\n",
       "    table.wandb td:nth-child(1) { padding: 0 10px; text-align: left ; width: auto;} td:nth-child(2) {text-align: left ; width: 100%}\n",
       "    .wandb-row { display: flex; flex-direction: row; flex-wrap: wrap; justify-content: flex-start; width: 100% }\n",
       "    .wandb-col { display: flex; flex-direction: column; flex-basis: 100%; flex: 1; padding: 10px; }\n",
       "    </style>\n",
       "<div class=\"wandb-row\"><div class=\"wandb-col\"><h3>Run summary:</h3><br/><table class=\"wandb\"><tr><td>test_accuracy</td><td>31.06796</td></tr><tr><td>val_accuracy</td><td>32.92683</td></tr></table><br/></div></div>"
      ],
      "text/plain": [
       "<IPython.core.display.HTML object>"
      ]
     },
     "metadata": {},
     "output_type": "display_data"
    },
    {
     "data": {
      "text/html": [
       " View run <strong style=\"color:#cdcd00\">worldly-sweep-4</strong> at: <a href='https://wandb.ai/pmpbu/grp4/runs/cp9mz2ya' target=\"_blank\">https://wandb.ai/pmpbu/grp4/runs/cp9mz2ya</a><br/> View project at: <a href='https://wandb.ai/pmpbu/grp4' target=\"_blank\">https://wandb.ai/pmpbu/grp4</a><br/>Synced 5 W&B file(s), 0 media file(s), 0 artifact file(s) and 0 other file(s)"
      ],
      "text/plain": [
       "<IPython.core.display.HTML object>"
      ]
     },
     "metadata": {},
     "output_type": "display_data"
    },
    {
     "data": {
      "text/html": [
       "Find logs at: <code>./wandb/run-20240425_202149-cp9mz2ya/logs</code>"
      ],
      "text/plain": [
       "<IPython.core.display.HTML object>"
      ]
     },
     "metadata": {},
     "output_type": "display_data"
    },
    {
     "name": "stderr",
     "output_type": "stream",
     "text": [
      "\u001b[34m\u001b[1mwandb\u001b[0m: Agent Starting Run: 12u27y8t with config:\n",
      "\u001b[34m\u001b[1mwandb\u001b[0m: \tbatch_size: 64\n",
      "\u001b[34m\u001b[1mwandb\u001b[0m: \tkernel_size: 3\n",
      "\u001b[34m\u001b[1mwandb\u001b[0m: \tlearning_rate: 0.001\n",
      "Failed to detect the name of this notebook, you can set it manually with the WANDB_NOTEBOOK_NAME environment variable to enable code saving.\n"
     ]
    },
    {
     "data": {
      "text/html": [
       "Tracking run with wandb version 0.16.6"
      ],
      "text/plain": [
       "<IPython.core.display.HTML object>"
      ]
     },
     "metadata": {},
     "output_type": "display_data"
    },
    {
     "data": {
      "text/html": [
       "Run data is saved locally in <code>/projectnb/ba865/students/pmpatel/wandb/run-20240425_203835-12u27y8t</code>"
      ],
      "text/plain": [
       "<IPython.core.display.HTML object>"
      ]
     },
     "metadata": {},
     "output_type": "display_data"
    },
    {
     "data": {
      "text/html": [
       "Syncing run <strong><a href='https://wandb.ai/pmpbu/grp4/runs/12u27y8t' target=\"_blank\">pretty-sweep-5</a></strong> to <a href='https://wandb.ai/pmpbu/grp4' target=\"_blank\">Weights & Biases</a> (<a href='https://wandb.me/run' target=\"_blank\">docs</a>)<br/>Sweep page: <a href='https://wandb.ai/pmpbu/grp4/sweeps/cdc2wfby' target=\"_blank\">https://wandb.ai/pmpbu/grp4/sweeps/cdc2wfby</a>"
      ],
      "text/plain": [
       "<IPython.core.display.HTML object>"
      ]
     },
     "metadata": {},
     "output_type": "display_data"
    },
    {
     "data": {
      "text/html": [
       " View project at <a href='https://wandb.ai/pmpbu/grp4' target=\"_blank\">https://wandb.ai/pmpbu/grp4</a>"
      ],
      "text/plain": [
       "<IPython.core.display.HTML object>"
      ]
     },
     "metadata": {},
     "output_type": "display_data"
    },
    {
     "data": {
      "text/html": [
       " View sweep at <a href='https://wandb.ai/pmpbu/grp4/sweeps/cdc2wfby' target=\"_blank\">https://wandb.ai/pmpbu/grp4/sweeps/cdc2wfby</a>"
      ],
      "text/plain": [
       "<IPython.core.display.HTML object>"
      ]
     },
     "metadata": {},
     "output_type": "display_data"
    },
    {
     "data": {
      "text/html": [
       " View run at <a href='https://wandb.ai/pmpbu/grp4/runs/12u27y8t' target=\"_blank\">https://wandb.ai/pmpbu/grp4/runs/12u27y8t</a>"
      ],
      "text/plain": [
       "<IPython.core.display.HTML object>"
      ]
     },
     "metadata": {},
     "output_type": "display_data"
    },
    {
     "name": "stdout",
     "output_type": "stream",
     "text": [
      "Epoch [1/10], Loss: 12.1048\n",
      "Epoch [2/10], Loss: 4.9788\n",
      "Epoch [3/10], Loss: 3.1913\n",
      "Epoch [4/10], Loss: 1.7987\n",
      "Epoch [5/10], Loss: 1.6908\n",
      "Epoch [6/10], Loss: 1.4929\n",
      "Epoch [7/10], Loss: 1.4596\n",
      "Epoch [8/10], Loss: 1.3969\n",
      "Epoch [9/10], Loss: 1.2653\n",
      "Epoch [10/10], Loss: 1.2215\n",
      "Validation Accuracy: 45.12%\n",
      "Test Accuracy: 31.07%\n"
     ]
    },
    {
     "data": {
      "application/vnd.jupyter.widget-view+json": {
       "model_id": "5916bfbbca4f4e02b1085bbd84f0e56a",
       "version_major": 2,
       "version_minor": 0
      },
      "text/plain": [
       "VBox(children=(Label(value='0.003 MB of 0.003 MB uploaded\\r'), FloatProgress(value=1.0, max=1.0)))"
      ]
     },
     "metadata": {},
     "output_type": "display_data"
    },
    {
     "data": {
      "text/html": [
       "<style>\n",
       "    table.wandb td:nth-child(1) { padding: 0 10px; text-align: left ; width: auto;} td:nth-child(2) {text-align: left ; width: 100%}\n",
       "    .wandb-row { display: flex; flex-direction: row; flex-wrap: wrap; justify-content: flex-start; width: 100% }\n",
       "    .wandb-col { display: flex; flex-direction: column; flex-basis: 100%; flex: 1; padding: 10px; }\n",
       "    </style>\n",
       "<div class=\"wandb-row\"><div class=\"wandb-col\"><h3>Run summary:</h3><br/><table class=\"wandb\"><tr><td>test_accuracy</td><td>31.06796</td></tr><tr><td>val_accuracy</td><td>45.12195</td></tr></table><br/></div></div>"
      ],
      "text/plain": [
       "<IPython.core.display.HTML object>"
      ]
     },
     "metadata": {},
     "output_type": "display_data"
    },
    {
     "data": {
      "text/html": [
       " View run <strong style=\"color:#cdcd00\">pretty-sweep-5</strong> at: <a href='https://wandb.ai/pmpbu/grp4/runs/12u27y8t' target=\"_blank\">https://wandb.ai/pmpbu/grp4/runs/12u27y8t</a><br/> View project at: <a href='https://wandb.ai/pmpbu/grp4' target=\"_blank\">https://wandb.ai/pmpbu/grp4</a><br/>Synced 5 W&B file(s), 0 media file(s), 0 artifact file(s) and 0 other file(s)"
      ],
      "text/plain": [
       "<IPython.core.display.HTML object>"
      ]
     },
     "metadata": {},
     "output_type": "display_data"
    },
    {
     "data": {
      "text/html": [
       "Find logs at: <code>./wandb/run-20240425_203835-12u27y8t/logs</code>"
      ],
      "text/plain": [
       "<IPython.core.display.HTML object>"
      ]
     },
     "metadata": {},
     "output_type": "display_data"
    },
    {
     "name": "stderr",
     "output_type": "stream",
     "text": [
      "\u001b[34m\u001b[1mwandb\u001b[0m: Agent Starting Run: xzy6yleb with config:\n",
      "\u001b[34m\u001b[1mwandb\u001b[0m: \tbatch_size: 64\n",
      "\u001b[34m\u001b[1mwandb\u001b[0m: \tkernel_size: 3\n",
      "\u001b[34m\u001b[1mwandb\u001b[0m: \tlearning_rate: 0.0001\n",
      "Failed to detect the name of this notebook, you can set it manually with the WANDB_NOTEBOOK_NAME environment variable to enable code saving.\n"
     ]
    },
    {
     "data": {
      "text/html": [
       "Tracking run with wandb version 0.16.6"
      ],
      "text/plain": [
       "<IPython.core.display.HTML object>"
      ]
     },
     "metadata": {},
     "output_type": "display_data"
    },
    {
     "data": {
      "text/html": [
       "Run data is saved locally in <code>/projectnb/ba865/students/pmpatel/wandb/run-20240425_205513-xzy6yleb</code>"
      ],
      "text/plain": [
       "<IPython.core.display.HTML object>"
      ]
     },
     "metadata": {},
     "output_type": "display_data"
    },
    {
     "data": {
      "text/html": [
       "Syncing run <strong><a href='https://wandb.ai/pmpbu/grp4/runs/xzy6yleb' target=\"_blank\">trim-sweep-6</a></strong> to <a href='https://wandb.ai/pmpbu/grp4' target=\"_blank\">Weights & Biases</a> (<a href='https://wandb.me/run' target=\"_blank\">docs</a>)<br/>Sweep page: <a href='https://wandb.ai/pmpbu/grp4/sweeps/cdc2wfby' target=\"_blank\">https://wandb.ai/pmpbu/grp4/sweeps/cdc2wfby</a>"
      ],
      "text/plain": [
       "<IPython.core.display.HTML object>"
      ]
     },
     "metadata": {},
     "output_type": "display_data"
    },
    {
     "data": {
      "text/html": [
       " View project at <a href='https://wandb.ai/pmpbu/grp4' target=\"_blank\">https://wandb.ai/pmpbu/grp4</a>"
      ],
      "text/plain": [
       "<IPython.core.display.HTML object>"
      ]
     },
     "metadata": {},
     "output_type": "display_data"
    },
    {
     "data": {
      "text/html": [
       " View sweep at <a href='https://wandb.ai/pmpbu/grp4/sweeps/cdc2wfby' target=\"_blank\">https://wandb.ai/pmpbu/grp4/sweeps/cdc2wfby</a>"
      ],
      "text/plain": [
       "<IPython.core.display.HTML object>"
      ]
     },
     "metadata": {},
     "output_type": "display_data"
    },
    {
     "data": {
      "text/html": [
       " View run at <a href='https://wandb.ai/pmpbu/grp4/runs/xzy6yleb' target=\"_blank\">https://wandb.ai/pmpbu/grp4/runs/xzy6yleb</a>"
      ],
      "text/plain": [
       "<IPython.core.display.HTML object>"
      ]
     },
     "metadata": {},
     "output_type": "display_data"
    },
    {
     "name": "stdout",
     "output_type": "stream",
     "text": [
      "Epoch [1/10], Loss: 1.7885\n",
      "Epoch [2/10], Loss: 1.4701\n",
      "Epoch [3/10], Loss: 1.4691\n",
      "Epoch [4/10], Loss: 1.4488\n",
      "Epoch [5/10], Loss: 1.3420\n",
      "Epoch [6/10], Loss: 1.4100\n",
      "Epoch [7/10], Loss: 1.4016\n",
      "Epoch [8/10], Loss: 1.3676\n",
      "Epoch [9/10], Loss: 1.3140\n",
      "Epoch [10/10], Loss: 1.3176\n",
      "Validation Accuracy: 41.46%\n",
      "Test Accuracy: 31.07%\n"
     ]
    },
    {
     "data": {
      "application/vnd.jupyter.widget-view+json": {
       "model_id": "47e0c3099b8e4926a407d8415e557aed",
       "version_major": 2,
       "version_minor": 0
      },
      "text/plain": [
       "VBox(children=(Label(value='0.003 MB of 0.003 MB uploaded\\r'), FloatProgress(value=1.0, max=1.0)))"
      ]
     },
     "metadata": {},
     "output_type": "display_data"
    },
    {
     "data": {
      "text/html": [
       "<style>\n",
       "    table.wandb td:nth-child(1) { padding: 0 10px; text-align: left ; width: auto;} td:nth-child(2) {text-align: left ; width: 100%}\n",
       "    .wandb-row { display: flex; flex-direction: row; flex-wrap: wrap; justify-content: flex-start; width: 100% }\n",
       "    .wandb-col { display: flex; flex-direction: column; flex-basis: 100%; flex: 1; padding: 10px; }\n",
       "    </style>\n",
       "<div class=\"wandb-row\"><div class=\"wandb-col\"><h3>Run summary:</h3><br/><table class=\"wandb\"><tr><td>test_accuracy</td><td>31.06796</td></tr><tr><td>val_accuracy</td><td>41.46341</td></tr></table><br/></div></div>"
      ],
      "text/plain": [
       "<IPython.core.display.HTML object>"
      ]
     },
     "metadata": {},
     "output_type": "display_data"
    },
    {
     "data": {
      "text/html": [
       " View run <strong style=\"color:#cdcd00\">trim-sweep-6</strong> at: <a href='https://wandb.ai/pmpbu/grp4/runs/xzy6yleb' target=\"_blank\">https://wandb.ai/pmpbu/grp4/runs/xzy6yleb</a><br/> View project at: <a href='https://wandb.ai/pmpbu/grp4' target=\"_blank\">https://wandb.ai/pmpbu/grp4</a><br/>Synced 5 W&B file(s), 0 media file(s), 0 artifact file(s) and 0 other file(s)"
      ],
      "text/plain": [
       "<IPython.core.display.HTML object>"
      ]
     },
     "metadata": {},
     "output_type": "display_data"
    },
    {
     "data": {
      "text/html": [
       "Find logs at: <code>./wandb/run-20240425_205513-xzy6yleb/logs</code>"
      ],
      "text/plain": [
       "<IPython.core.display.HTML object>"
      ]
     },
     "metadata": {},
     "output_type": "display_data"
    },
    {
     "name": "stderr",
     "output_type": "stream",
     "text": [
      "\u001b[34m\u001b[1mwandb\u001b[0m: Agent Starting Run: idbfb807 with config:\n",
      "\u001b[34m\u001b[1mwandb\u001b[0m: \tbatch_size: 64\n",
      "\u001b[34m\u001b[1mwandb\u001b[0m: \tkernel_size: 4\n",
      "\u001b[34m\u001b[1mwandb\u001b[0m: \tlearning_rate: 0.01\n",
      "Failed to detect the name of this notebook, you can set it manually with the WANDB_NOTEBOOK_NAME environment variable to enable code saving.\n"
     ]
    },
    {
     "data": {
      "text/html": [
       "Tracking run with wandb version 0.16.6"
      ],
      "text/plain": [
       "<IPython.core.display.HTML object>"
      ]
     },
     "metadata": {},
     "output_type": "display_data"
    },
    {
     "data": {
      "text/html": [
       "Run data is saved locally in <code>/projectnb/ba865/students/pmpatel/wandb/run-20240425_211200-idbfb807</code>"
      ],
      "text/plain": [
       "<IPython.core.display.HTML object>"
      ]
     },
     "metadata": {},
     "output_type": "display_data"
    },
    {
     "data": {
      "text/html": [
       "Syncing run <strong><a href='https://wandb.ai/pmpbu/grp4/runs/idbfb807' target=\"_blank\">elated-sweep-7</a></strong> to <a href='https://wandb.ai/pmpbu/grp4' target=\"_blank\">Weights & Biases</a> (<a href='https://wandb.me/run' target=\"_blank\">docs</a>)<br/>Sweep page: <a href='https://wandb.ai/pmpbu/grp4/sweeps/cdc2wfby' target=\"_blank\">https://wandb.ai/pmpbu/grp4/sweeps/cdc2wfby</a>"
      ],
      "text/plain": [
       "<IPython.core.display.HTML object>"
      ]
     },
     "metadata": {},
     "output_type": "display_data"
    },
    {
     "data": {
      "text/html": [
       " View project at <a href='https://wandb.ai/pmpbu/grp4' target=\"_blank\">https://wandb.ai/pmpbu/grp4</a>"
      ],
      "text/plain": [
       "<IPython.core.display.HTML object>"
      ]
     },
     "metadata": {},
     "output_type": "display_data"
    },
    {
     "data": {
      "text/html": [
       " View sweep at <a href='https://wandb.ai/pmpbu/grp4/sweeps/cdc2wfby' target=\"_blank\">https://wandb.ai/pmpbu/grp4/sweeps/cdc2wfby</a>"
      ],
      "text/plain": [
       "<IPython.core.display.HTML object>"
      ]
     },
     "metadata": {},
     "output_type": "display_data"
    },
    {
     "data": {
      "text/html": [
       " View run at <a href='https://wandb.ai/pmpbu/grp4/runs/idbfb807' target=\"_blank\">https://wandb.ai/pmpbu/grp4/runs/idbfb807</a>"
      ],
      "text/plain": [
       "<IPython.core.display.HTML object>"
      ]
     },
     "metadata": {},
     "output_type": "display_data"
    },
    {
     "name": "stdout",
     "output_type": "stream",
     "text": [
      "Epoch [1/10], Loss: 164.2774\n",
      "Epoch [2/10], Loss: 56.4854\n"
     ]
    },
    {
     "name": "stderr",
     "output_type": "stream",
     "text": [
      "\u001b[34m\u001b[1mwandb\u001b[0m: Ctrl + C detected. Stopping sweep.\n"
     ]
    }
   ],
   "source": [
    "# sweep result used in ppt\n",
    "\n",
    "\n",
    "import wandb\n",
    "import torch\n",
    "import torch.nn as nn\n",
    "import torch.optim as optim\n",
    "from torchvision import datasets, transforms\n",
    "from torch.utils.data import DataLoader, random_split\n",
    "\n",
    "# Initialize WandB\n",
    "wandb.login()\n",
    "\n",
    "# Define sweep configuration\n",
    "sweep_configuration = {\n",
    "    \"method\": \"grid\",\n",
    "    \"name\": \"lowfil\",\n",
    "    \"metric\": {\"goal\": \"maximize\", \"name\": \"val_acc\"},\n",
    "    \"parameters\": {\n",
    "        \"batch_size\": {\"values\": [64,32,15]},\n",
    "        \"learning_rate\": {\"values\": [1e-2, 1e-3, 1e-4]},\n",
    "        'kernel_size': {'values': [2,3,4]}\n",
    "    }\n",
    "}\n",
    "\n",
    "\n",
    "# Define the CNN model\n",
    "class CNN(nn.Module):\n",
    "    def __init__(self, kernel_size, output_size):\n",
    "        super(CNN, self).__init__()\n",
    "        self.model = nn.Sequential(\n",
    "            torch.nn.Conv2d(3, 4, kernel_size),\n",
    "            torch.nn.ReLU(),\n",
    "            torch.nn.Conv2d(4, 8, kernel_size),\n",
    "            torch.nn.ReLU(),\n",
    "#             torch.nn.MaxPool2d(2),\n",
    "            torch.nn.Conv2d(8, 16, kernel_size),\n",
    "            torch.nn.ReLU(),\n",
    "            torch.nn.MaxPool2d(2),\n",
    "            torch.nn.Conv2d(16, 32, kernel_size),\n",
    "            torch.nn.MaxPool2d(2),\n",
    "            nn.Flatten(),\n",
    "            nn.LazyLinear(output_size) \n",
    "        )\n",
    "\n",
    "    def forward(self, x):\n",
    "        return self.model(x)\n",
    "\n",
    "\n",
    "# Main function to run a single experiment\n",
    "def main():\n",
    "    run = wandb.init()\n",
    "\n",
    "    # Load data\n",
    "    training_path = \"Disease Grading/1. Original Images/a. Training Directory\"\n",
    "    testing_path = \"Disease Grading/1. Original Images/b. Testing Directory\"\n",
    "\n",
    "\n",
    "    transform = transforms.Compose([\n",
    "        transforms.RandomHorizontalFlip(0.5),\n",
    "        transforms.Resize([448, 500]),\n",
    "#         transforms.Pad((0, 20, 0, 20)),\n",
    "        transforms.RandomRotation(45),\n",
    "        transforms.ToTensor(),\n",
    "        transforms.Normalize(mean=[0.5944, 0.2908, 0.0962], std=[0.2047, 0.1284, 0.0866])\n",
    "    ])\n",
    "        \n",
    "    test_transform = transforms.Compose([\n",
    "            transforms.Resize(([448, 500])),\n",
    "            transforms.ToTensor()\n",
    "            ])\n",
    "\n",
    "    train_dataset = torchvision.datasets.ImageFolder(training_path, transform = transform)\n",
    "    train_dataset, val_dataset = random_split(train_dataset, [0.8, 0.2])\n",
    "    test_dataset = torchvision.datasets.ImageFolder(testing_path, transform = test_transform)\n",
    "\n",
    "    # Data loaders\n",
    "    train_loader = DataLoader(dataset=train_dataset, batch_size=run.config.batch_size, shuffle=True)\n",
    "    val_loader = DataLoader(dataset=val_dataset, batch_size=run.config.batch_size, shuffle=False)\n",
    "    test_loader = DataLoader(dataset=test_dataset, batch_size=run.config.batch_size, shuffle=False)\n",
    "\n",
    "\n",
    "    # Initialize model\n",
    "    model = CNN(run.config.kernel_size, 5)\n",
    "\n",
    "    # Training the model\n",
    "    criterion = nn.CrossEntropyLoss()\n",
    "    optimizer = optim.Adam(model.parameters(), lr=run.config.learning_rate)\n",
    "    num_epochs = 10\n",
    "    for epoch in range(num_epochs):\n",
    "        running_loss = 0.0\n",
    "        for i, (inputs, labels) in enumerate(train_loader):\n",
    "            optimizer.zero_grad()\n",
    "            outputs = model(inputs)\n",
    "            loss = criterion(outputs, labels)\n",
    "            loss.backward()\n",
    "            optimizer.step()\n",
    "            running_loss += loss.item()\n",
    "        epoch_loss = running_loss / len(train_loader)\n",
    "        print(f'Epoch [{epoch + 1}/{num_epochs}], Loss: {epoch_loss:.4f}')\n",
    "\n",
    "    # Evaluate the model on validation set\n",
    "    model.eval()\n",
    "    correct_val = 0\n",
    "    total_val = 0\n",
    "    with torch.no_grad():\n",
    "        for inputs, labels in val_loader:\n",
    "            outputs = model(inputs)\n",
    "            _, predicted = torch.max(outputs.data, 1)\n",
    "            total_val += labels.size(0)\n",
    "            correct_val += (predicted == labels).sum().item()\n",
    "    val_accuracy = 100 * correct_val / total_val\n",
    "    print('Validation Accuracy: {:.2f}%'.format(val_accuracy))\n",
    "\n",
    "    # Log validation accuracy\n",
    "    wandb.run.summary[\"val_accuracy\"] = val_accuracy\n",
    "\n",
    "    # Evaluate the model on test set\n",
    "    correct_test = 0\n",
    "    total_test = 0\n",
    "    with torch.no_grad():\n",
    "        for inputs, labels in test_loader:\n",
    "            outputs = model(inputs)\n",
    "            _, predicted = torch.max(outputs.data, 1)\n",
    "            total_test += labels.size(0)\n",
    "            correct_test += (predicted == labels).sum().item()\n",
    "    test_accuracy = 100 * correct_test / total_test\n",
    "    print('Test Accuracy: {:.2f}%'.format(test_accuracy))\n",
    "\n",
    "    # Log test accuracy\n",
    "    wandb.run.summary[\"test_accuracy\"] = test_accuracy\n",
    "\n",
    "\n",
    "# Initialize sweep\n",
    "sweep_id = wandb.sweep(sweep=sweep_configuration, project='grp4')\n",
    "\n",
    "# Start sweep job\n",
    "wandb.agent(sweep_id, function=main)"
   ]
  },
  {
   "cell_type": "code",
   "execution_count": null,
   "id": "86856b85",
   "metadata": {},
   "outputs": [],
   "source": [
    "from IPython.display import IFrame\n",
    "\n",
    "<iframe src=\"https://wandb.ai/pmpbu/grp4/reports/CNN-hyperparameter-tuning--Vmlldzo3Njk4NzY4\" style=\"border:none;height:1024px;width:100%\">"
   ]
  },
  {
   "cell_type": "markdown",
   "id": "f029082a",
   "metadata": {},
   "source": [
    "Published report link:\n",
    "\n",
    "https://api.wandb.ai/links/pmpbu/o17j4j23"
   ]
  },
  {
   "cell_type": "markdown",
   "id": "3bec8dfb",
   "metadata": {},
   "source": [
    "# Class Imbalance"
   ]
  },
  {
   "cell_type": "code",
   "execution_count": 26,
   "id": "535db169",
   "metadata": {},
   "outputs": [
    {
     "data": {
      "text/plain": [
       "Retinopathy grade\n",
       "2    136\n",
       "0    134\n",
       "3     74\n",
       "4     49\n",
       "1     20\n",
       "Name: count, dtype: int64"
      ]
     },
     "execution_count": 26,
     "metadata": {},
     "output_type": "execute_result"
    }
   ],
   "source": [
    "labels_training['Retinopathy grade'].value_counts()"
   ]
  },
  {
   "cell_type": "code",
   "execution_count": 27,
   "id": "a16183a0",
   "metadata": {},
   "outputs": [
    {
     "data": {
      "text/plain": [
       "Retinopathy grade\n",
       "2    0.329298\n",
       "0    0.324455\n",
       "3    0.179177\n",
       "4    0.118644\n",
       "1    0.048426\n",
       "Name: count, dtype: float64"
      ]
     },
     "execution_count": 27,
     "metadata": {},
     "output_type": "execute_result"
    }
   ],
   "source": [
    "labels_training['Retinopathy grade'].value_counts()/sum(labels_training['Retinopathy grade'].value_counts())"
   ]
  },
  {
   "cell_type": "code",
   "execution_count": 28,
   "id": "015ae90d",
   "metadata": {},
   "outputs": [
    {
     "name": "stderr",
     "output_type": "stream",
     "text": [
      "/usr4/ba820/pmpatel/.local/lib/python3.10/site-packages/torch/nn/modules/lazy.py:181: UserWarning: Lazy modules are a new feature under heavy development so changes to the API or functionality can happen at any moment.\n",
      "  warnings.warn('Lazy modules are a new feature under heavy development '\n"
     ]
    },
    {
     "name": "stdout",
     "output_type": "stream",
     "text": [
      "Epoch [1/10], Loss: 1.2313,Accuracy :37.7644\n",
      "Epoch [2/10], Loss: 1.0859,Accuracy :42.2961\n",
      "Epoch [3/10], Loss: 1.0326,Accuracy :43.5045\n",
      "Epoch [4/10], Loss: 1.0032,Accuracy :49.2447\n",
      "Epoch [5/10], Loss: 0.9892,Accuracy :47.4320\n",
      "Epoch [6/10], Loss: 0.9839,Accuracy :51.0574\n",
      "Epoch [7/10], Loss: 0.9410,Accuracy :46.8278\n",
      "Epoch [8/10], Loss: 0.9640,Accuracy :48.0363\n",
      "Epoch [9/10], Loss: 0.9154,Accuracy :60.7251\n",
      "Epoch [10/10], Loss: 0.8163,Accuracy :52.5680\n",
      "Validation Accuracy: 36.59%\n",
      "Test Accuracy: 30.10%\n"
     ]
    }
   ],
   "source": [
    "## Class Imbalance \n",
    "\n",
    "\n",
    "# Resize - 224,224\n",
    "# batch = 32\n",
    "# learning = 0.0001\n",
    "\n",
    "\n",
    "import torch\n",
    "import torch.nn as nn\n",
    "import torch.optim as optim\n",
    "import torchvision\n",
    "import torchvision.transforms as transforms\n",
    "from torch.utils.data import DataLoader, random_split, Subset, WeightedRandomSampler\n",
    "import wandb\n",
    "import torch\n",
    "import torch.nn as nn\n",
    "import torch.optim as optim\n",
    "from torchvision import datasets, transforms\n",
    "from torch.utils.data import DataLoader, random_split\n",
    "\n",
    "# Define transforms for training and augmentation\n",
    "transform_train = transforms.Compose([\n",
    "    transforms.Resize((224, 224)),  # Resize images to a fixed size\n",
    "    transforms.RandomHorizontalFlip(),\n",
    "    transforms.RandomRotation(degrees=15),\n",
    "    transforms.ToTensor(),\n",
    "])\n",
    "\n",
    "# No augmentation for validation and test sets\n",
    "transform_val_test = transforms.Compose([\n",
    "    transforms.Resize((224, 224)),\n",
    "    transforms.ToTensor(),\n",
    "])\n",
    "\n",
    "# Class weights for the dataset\n",
    "class_weights = [0.324455, 0.048426, 0.329298, 0.179177, 0.118644]\n",
    "\n",
    "# Load the dataset\n",
    "training_path = \"Disease Grading/1. Original Images/a. Training Directory\"\n",
    "testing_path = \"Disease Grading/1. Original Images/b. Testing Directory\"\n",
    "\n",
    "train_dataset = torchvision.datasets.ImageFolder(training_path, transform=transform_train)\n",
    "train_dataset, val_dataset = random_split(train_dataset, [0.8, 0.2])\n",
    "test_dataset = torchvision.datasets.ImageFolder(testing_path, transform=transform_val_test)\n",
    "\n",
    "# Create a WeightedRandomSampler to address class imbalance\n",
    "sampler = WeightedRandomSampler(weights=class_weights, num_samples=len(train_dataset), replacement=True)\n",
    "\n",
    "# DataLoader for training and validation\n",
    "train_loader = DataLoader(train_dataset, batch_size=32, sampler=sampler)\n",
    "val_loader = DataLoader(val_dataset, batch_size=32, shuffle=True)\n",
    "test_loader = DataLoader(test_dataset, batch_size=32, shuffle=False)\n",
    "\n",
    "# Define the CNN model\n",
    "class CNN(nn.Module):\n",
    "    def __init__(self, kernel_size, output_size):\n",
    "        super(CNN, self).__init__()\n",
    "        self.model = nn.Sequential(\n",
    "            nn.Conv2d(3, 4, kernel_size),\n",
    "            nn.ReLU(),\n",
    "            nn.Conv2d(4, 8, kernel_size),\n",
    "            nn.ReLU(),\n",
    "            nn.Conv2d(8, 16, kernel_size),\n",
    "            nn.ReLU(),\n",
    "            nn.MaxPool2d(2),\n",
    "            nn.Conv2d(16, 32, kernel_size),\n",
    "            nn.MaxPool2d(2),\n",
    "            nn.Flatten(),\n",
    "            nn.LazyLinear(output_size) \n",
    "        )\n",
    "\n",
    "    def forward(self, x):\n",
    "        return self.model(x)\n",
    "\n",
    "# Initialize the model\n",
    "model = CNN(kernel_size=3, output_size=5)\n",
    "\n",
    "# Training the model\n",
    "criterion = nn.CrossEntropyLoss()\n",
    "optimizer = optim.Adam(model.parameters(), lr=0.0001)\n",
    "num_epochs = 10\n",
    "for epoch in range(num_epochs):\n",
    "    running_loss = 0.0\n",
    "    correct_train = 0\n",
    "    total_train = 0\n",
    "    for i, (inputs, labels) in enumerate(train_loader):\n",
    "        optimizer.zero_grad()\n",
    "        outputs = model(inputs)\n",
    "        loss = criterion(outputs, labels)\n",
    "        loss.backward()\n",
    "        optimizer.step()\n",
    "        running_loss += loss.item()\n",
    "        \n",
    "        _, predicted = torch.max(outputs.data, 1)\n",
    "        total_train += labels.size(0)\n",
    "        correct_train += (predicted == labels).sum().item()\n",
    "        \n",
    "    epoch_loss = running_loss / len(train_loader)\n",
    "    epoch_accuracy = 100 * correct_train / total_train\n",
    "    print(f'Epoch [{epoch + 1}/{num_epochs}], Loss: {epoch_loss:.4f},Accuracy :{epoch_accuracy:.4f}')\n",
    "\n",
    "# Evaluate the model on validation set\n",
    "model.eval()\n",
    "correct_val = 0\n",
    "total_val = 0\n",
    "with torch.no_grad():\n",
    "    for inputs, labels in val_loader:\n",
    "        outputs = model(inputs)\n",
    "        _, predicted = torch.max(outputs.data, 1)\n",
    "        total_val += labels.size(0)\n",
    "        correct_val += (predicted == labels).sum().item()\n",
    "val_accuracy = 100 * correct_val / total_val\n",
    "print('Validation Accuracy: {:.2f}%'.format(val_accuracy))\n",
    "\n",
    "# Evaluate the model on test set\n",
    "test_loader = DataLoader(test_dataset, batch_size=64, shuffle=True)\n",
    "correct_test = 0\n",
    "total_test = 0\n",
    "with torch.no_grad():\n",
    "    for inputs, labels in test_loader:\n",
    "        outputs = model(inputs)\n",
    "        _, predicted = torch.max(outputs.data, 1)\n",
    "        total_test += labels.size(0)\n",
    "        correct_test += (predicted == labels).sum().item()\n",
    "test_accuracy = 100 * correct_test / total_test\n",
    "print('Test Accuracy: {:.2f}%'.format(test_accuracy))\n"
   ]
  },
  {
   "cell_type": "code",
   "execution_count": 30,
   "id": "a341f83b",
   "metadata": {},
   "outputs": [
    {
     "name": "stdout",
     "output_type": "stream",
     "text": [
      "Epoch [1/10], Loss: 7.7963\n",
      "Epoch [2/10], Loss: 3.6793\n",
      "Epoch [4/10], Loss: 1.2015\n",
      "Epoch [5/10], Loss: 0.7419\n",
      "Epoch [6/10], Loss: 0.6010\n",
      "Epoch [7/10], Loss: 0.3480\n",
      "Epoch [8/10], Loss: 0.2148\n",
      "Epoch [9/10], Loss: 0.1270\n",
      "Epoch [10/10], Loss: 0.1460\n",
      "Validation Accuracy: 26.83%\n",
      "Test Accuracy: 29.13%\n"
     ]
    }
   ],
   "source": [
    "## Class Imbalance \n",
    "\n",
    "\n",
    "# Resize - 448,600\n",
    "# batch = 64\n",
    "# learning rate = 0.001\n",
    "\n",
    "import torch\n",
    "import torch.nn as nn\n",
    "import torch.optim as optim\n",
    "import torchvision\n",
    "import torchvision.transforms as transforms\n",
    "from torch.utils.data import DataLoader, random_split, Subset, WeightedRandomSampler\n",
    "\n",
    "# Define transforms for training and augmentation\n",
    "transform_train = transforms.Compose([\n",
    "    transforms.Resize((448, 600)),  # Resize images to a fixed size\n",
    "    transforms.RandomHorizontalFlip(),\n",
    "    transforms.RandomRotation(degrees=15),\n",
    "    transforms.ToTensor(),\n",
    "])\n",
    "\n",
    "# No augmentation for validation and test sets\n",
    "transform_val_test = transforms.Compose([\n",
    "    transforms.Resize((448, 600)),\n",
    "    transforms.ToTensor(),\n",
    "])\n",
    "\n",
    "# Class weights for the dataset\n",
    "class_weights = [0.324455, 0.048426, 0.329298, 0.179177, 0.118644]\n",
    "\n",
    "# Load the dataset\n",
    "training_path = \"Disease Grading/1. Original Images/a. Training Directory\"\n",
    "testing_path = \"Disease Grading/1. Original Images/b. Testing Directory\"\n",
    "\n",
    "train_dataset = torchvision.datasets.ImageFolder(training_path, transform=transform_train)\n",
    "train_dataset, val_dataset = random_split(train_dataset, [0.8, 0.2])\n",
    "test_dataset = torchvision.datasets.ImageFolder(testing_path, transform=transform_val_test)\n",
    "\n",
    "# Create a WeightedRandomSampler to address class imbalance\n",
    "sampler = WeightedRandomSampler(weights=class_weights, num_samples=len(train_dataset), replacement=True)\n",
    "\n",
    "# DataLoader for training and validation\n",
    "train_loader = DataLoader(train_dataset, batch_size=64, sampler=sampler)\n",
    "val_loader = DataLoader(val_dataset, batch_size=64, shuffle=True)\n",
    "test_loader = DataLoader(test_dataset, batch_size=64, shuffle=False)\n",
    "\n",
    "# Define the CNN model\n",
    "class CNN(nn.Module):\n",
    "    def __init__(self, kernel_size, output_size):\n",
    "        super(CNN, self).__init__()\n",
    "        self.model = nn.Sequential(\n",
    "            nn.Conv2d(3, 4, kernel_size),\n",
    "            nn.ReLU(),\n",
    "            nn.Conv2d(4, 8, kernel_size),\n",
    "            nn.ReLU(),\n",
    "            nn.Conv2d(8, 16, kernel_size),\n",
    "            nn.ReLU(),\n",
    "            nn.MaxPool2d(2),\n",
    "            nn.Conv2d(16, 32, kernel_size),\n",
    "            nn.MaxPool2d(2),\n",
    "            nn.Flatten(),\n",
    "            nn.LazyLinear(output_size) \n",
    "        )\n",
    "\n",
    "    def forward(self, x):\n",
    "        return self.model(x)\n",
    "\n",
    "# Initialize the model\n",
    "model = CNN(kernel_size=3, output_size=5)\n",
    "\n",
    "# Training the model\n",
    "criterion = nn.CrossEntropyLoss()\n",
    "optimizer = optim.Adam(model.parameters(), lr=0.001)\n",
    "num_epochs = 10\n",
    "for epoch in range(num_epochs):\n",
    "    running_loss = 0.0\n",
    "    for i, (inputs, labels) in enumerate(train_loader):\n",
    "        optimizer.zero_grad()\n",
    "        outputs = model(inputs)\n",
    "        loss = criterion(outputs, labels)\n",
    "        loss.backward()\n",
    "        optimizer.step()\n",
    "        running_loss += loss.item()\n",
    "    epoch_loss = running_loss / len(train_loader)\n",
    "    print(f'Epoch [{epoch + 1}/{num_epochs}], Loss: {epoch_loss:.4f}')\n",
    "\n",
    "# Evaluate the model on validation set\n",
    "model.eval()\n",
    "correct_val = 0\n",
    "total_val = 0\n",
    "with torch.no_grad():\n",
    "    for inputs, labels in val_loader:\n",
    "        outputs = model(inputs)\n",
    "        _, predicted = torch.max(outputs.data, 1)\n",
    "        total_val += labels.size(0)\n",
    "        correct_val += (predicted == labels).sum().item()\n",
    "val_accuracy = 100 * correct_val / total_val\n",
    "print('Validation Accuracy: {:.2f}%'.format(val_accuracy))\n",
    "\n",
    "# Evaluate the model on test set\n",
    "test_loader = DataLoader(test_dataset, batch_size=64, shuffle=True)\n",
    "correct_test = 0\n",
    "total_test = 0\n",
    "with torch.no_grad():\n",
    "    for inputs, labels in test_loader:\n",
    "        outputs = model(inputs)\n",
    "        _, predicted = torch.max(outputs.data, 1)\n",
    "        total_test += labels.size(0)\n",
    "        correct_test += (predicted == labels).sum().item()\n",
    "test_accuracy = 100 * correct_test / total_test\n",
    "print('Test Accuracy: {:.2f}%'.format(test_accuracy))\n"
   ]
  },
  {
   "cell_type": "code",
   "execution_count": null,
   "id": "28e62167",
   "metadata": {},
   "outputs": [
    {
     "name": "stderr",
     "output_type": "stream",
     "text": [
      "Failed to detect the name of this notebook, you can set it manually with the WANDB_NOTEBOOK_NAME environment variable to enable code saving.\n",
      "\u001b[34m\u001b[1mwandb\u001b[0m: Currently logged in as: \u001b[33mpmpatel\u001b[0m (\u001b[33mpmpbu\u001b[0m). Use \u001b[1m`wandb login --relogin`\u001b[0m to force relogin\n"
     ]
    },
    {
     "name": "stdout",
     "output_type": "stream",
     "text": [
      "Create sweep with ID: yumwnpli\n",
      "Sweep URL: https://wandb.ai/pmpbu/grp4_class_imb/sweeps/yumwnpli\n"
     ]
    },
    {
     "name": "stderr",
     "output_type": "stream",
     "text": [
      "\u001b[34m\u001b[1mwandb\u001b[0m: Agent Starting Run: u0up465s with config:\n",
      "\u001b[34m\u001b[1mwandb\u001b[0m: \tbatch_size: 64\n",
      "\u001b[34m\u001b[1mwandb\u001b[0m: \tkernel_size: 2\n",
      "\u001b[34m\u001b[1mwandb\u001b[0m: \tlearning_rate: 0.001\n",
      "Failed to detect the name of this notebook, you can set it manually with the WANDB_NOTEBOOK_NAME environment variable to enable code saving.\n"
     ]
    },
    {
     "data": {
      "text/html": [
       "Tracking run with wandb version 0.16.6"
      ],
      "text/plain": [
       "<IPython.core.display.HTML object>"
      ]
     },
     "metadata": {},
     "output_type": "display_data"
    },
    {
     "data": {
      "text/html": [
       "Run data is saved locally in <code>/projectnb/ba865/students/pmpatel/wandb/run-20240425_144137-u0up465s</code>"
      ],
      "text/plain": [
       "<IPython.core.display.HTML object>"
      ]
     },
     "metadata": {},
     "output_type": "display_data"
    },
    {
     "data": {
      "text/html": [
       "Syncing run <strong><a href='https://wandb.ai/pmpbu/grp4_class_imb/runs/u0up465s' target=\"_blank\">rich-sweep-1</a></strong> to <a href='https://wandb.ai/pmpbu/grp4_class_imb' target=\"_blank\">Weights & Biases</a> (<a href='https://wandb.me/run' target=\"_blank\">docs</a>)<br/>Sweep page: <a href='https://wandb.ai/pmpbu/grp4_class_imb/sweeps/yumwnpli' target=\"_blank\">https://wandb.ai/pmpbu/grp4_class_imb/sweeps/yumwnpli</a>"
      ],
      "text/plain": [
       "<IPython.core.display.HTML object>"
      ]
     },
     "metadata": {},
     "output_type": "display_data"
    },
    {
     "data": {
      "text/html": [
       " View project at <a href='https://wandb.ai/pmpbu/grp4_class_imb' target=\"_blank\">https://wandb.ai/pmpbu/grp4_class_imb</a>"
      ],
      "text/plain": [
       "<IPython.core.display.HTML object>"
      ]
     },
     "metadata": {},
     "output_type": "display_data"
    },
    {
     "data": {
      "text/html": [
       " View sweep at <a href='https://wandb.ai/pmpbu/grp4_class_imb/sweeps/yumwnpli' target=\"_blank\">https://wandb.ai/pmpbu/grp4_class_imb/sweeps/yumwnpli</a>"
      ],
      "text/plain": [
       "<IPython.core.display.HTML object>"
      ]
     },
     "metadata": {},
     "output_type": "display_data"
    },
    {
     "data": {
      "text/html": [
       " View run at <a href='https://wandb.ai/pmpbu/grp4_class_imb/runs/u0up465s' target=\"_blank\">https://wandb.ai/pmpbu/grp4_class_imb/runs/u0up465s</a>"
      ],
      "text/plain": [
       "<IPython.core.display.HTML object>"
      ]
     },
     "metadata": {},
     "output_type": "display_data"
    },
    {
     "name": "stderr",
     "output_type": "stream",
     "text": [
      "/usr4/ba820/pmpatel/.local/lib/python3.10/site-packages/torch/nn/modules/lazy.py:181: UserWarning: Lazy modules are a new feature under heavy development so changes to the API or functionality can happen at any moment.\n",
      "  warnings.warn('Lazy modules are a new feature under heavy development '\n"
     ]
    },
    {
     "name": "stdout",
     "output_type": "stream",
     "text": [
      "Epoch [1/10], Loss: 4.8366, Accuracy: 44.71%\n",
      "Epoch [2/10], Loss: 7.7212, Accuracy: 69.79%\n",
      "Epoch [3/10], Loss: 3.5326, Accuracy: 50.15%\n",
      "Epoch [4/10], Loss: 2.8498, Accuracy: 62.24%\n",
      "Epoch [5/10], Loss: 1.3180, Accuracy: 69.49%\n",
      "Epoch [6/10], Loss: 0.7921, Accuracy: 51.96%\n",
      "Epoch [7/10], Loss: 0.6776, Accuracy: 67.37%\n",
      "Epoch [8/10], Loss: 0.5127, Accuracy: 74.32%\n",
      "Epoch [9/10], Loss: 0.3504, Accuracy: 97.89%\n",
      "Epoch [10/10], Loss: 0.2856, Accuracy: 96.68%\n",
      "Validation Accuracy: 29.27%\n",
      "Test Accuracy: 33.01%\n"
     ]
    },
    {
     "data": {
      "image/png": "[encoded data removed]",
      "text/plain": [
       "<Figure size 800x600 with 2 Axes>"
      ]
     },
     "metadata": {},
     "output_type": "display_data"
    },
    {
     "data": {
      "image/png": "[encoded data removed]",
      "text/plain": [
       "<Figure size 800x600 with 2 Axes>"
      ]
     },
     "metadata": {},
     "output_type": "display_data"
    },
    {
     "data": {
      "application/vnd.jupyter.widget-view+json": {
       "model_id": "2dc774defb9f46f7859aba5d0894f2a1",
       "version_major": 2,
       "version_minor": 0
      },
      "text/plain": [
       "VBox(children=(Label(value='0.003 MB of 0.003 MB uploaded\\r'), FloatProgress(value=1.0, max=1.0)))"
      ]
     },
     "metadata": {},
     "output_type": "display_data"
    },
    {
     "data": {
      "text/html": [
       "<style>\n",
       "    table.wandb td:nth-child(1) { padding: 0 10px; text-align: left ; width: auto;} td:nth-child(2) {text-align: left ; width: 100%}\n",
       "    .wandb-row { display: flex; flex-direction: row; flex-wrap: wrap; justify-content: flex-start; width: 100% }\n",
       "    .wandb-col { display: flex; flex-direction: column; flex-basis: 100%; flex: 1; padding: 10px; }\n",
       "    </style>\n",
       "<div class=\"wandb-row\"><div class=\"wandb-col\"><h3>Run summary:</h3><br/><table class=\"wandb\"><tr><td>test_accuracy</td><td>33.00971</td></tr><tr><td>val_accuracy</td><td>29.26829</td></tr></table><br/></div></div>"
      ],
      "text/plain": [
       "<IPython.core.display.HTML object>"
      ]
     },
     "metadata": {},
     "output_type": "display_data"
    },
    {
     "data": {
      "text/html": [
       " View run <strong style=\"color:#cdcd00\">rich-sweep-1</strong> at: <a href='https://wandb.ai/pmpbu/grp4_class_imb/runs/u0up465s' target=\"_blank\">https://wandb.ai/pmpbu/grp4_class_imb/runs/u0up465s</a><br/> View project at: <a href='https://wandb.ai/pmpbu/grp4_class_imb' target=\"_blank\">https://wandb.ai/pmpbu/grp4_class_imb</a><br/>Synced 5 W&B file(s), 0 media file(s), 0 artifact file(s) and 0 other file(s)"
      ],
      "text/plain": [
       "<IPython.core.display.HTML object>"
      ]
     },
     "metadata": {},
     "output_type": "display_data"
    },
    {
     "data": {
      "text/html": [
       "Find logs at: <code>./wandb/run-20240425_144137-u0up465s/logs</code>"
      ],
      "text/plain": [
       "<IPython.core.display.HTML object>"
      ]
     },
     "metadata": {},
     "output_type": "display_data"
    },
    {
     "name": "stderr",
     "output_type": "stream",
     "text": [
      "\u001b[34m\u001b[1mwandb\u001b[0m: Agent Starting Run: tud7fvjx with config:\n",
      "\u001b[34m\u001b[1mwandb\u001b[0m: \tbatch_size: 64\n",
      "\u001b[34m\u001b[1mwandb\u001b[0m: \tkernel_size: 2\n",
      "\u001b[34m\u001b[1mwandb\u001b[0m: \tlearning_rate: 0.0001\n",
      "Failed to detect the name of this notebook, you can set it manually with the WANDB_NOTEBOOK_NAME environment variable to enable code saving.\n"
     ]
    },
    {
     "data": {
      "text/html": [
       "Tracking run with wandb version 0.16.6"
      ],
      "text/plain": [
       "<IPython.core.display.HTML object>"
      ]
     },
     "metadata": {},
     "output_type": "display_data"
    },
    {
     "data": {
      "text/html": [
       "Run data is saved locally in <code>/projectnb/ba865/students/pmpatel/wandb/run-20240425_145804-tud7fvjx</code>"
      ],
      "text/plain": [
       "<IPython.core.display.HTML object>"
      ]
     },
     "metadata": {},
     "output_type": "display_data"
    },
    {
     "data": {
      "text/html": [
       "Syncing run <strong><a href='https://wandb.ai/pmpbu/grp4_class_imb/runs/tud7fvjx' target=\"_blank\">northern-sweep-2</a></strong> to <a href='https://wandb.ai/pmpbu/grp4_class_imb' target=\"_blank\">Weights & Biases</a> (<a href='https://wandb.me/run' target=\"_blank\">docs</a>)<br/>Sweep page: <a href='https://wandb.ai/pmpbu/grp4_class_imb/sweeps/yumwnpli' target=\"_blank\">https://wandb.ai/pmpbu/grp4_class_imb/sweeps/yumwnpli</a>"
      ],
      "text/plain": [
       "<IPython.core.display.HTML object>"
      ]
     },
     "metadata": {},
     "output_type": "display_data"
    },
    {
     "data": {
      "text/html": [
       " View project at <a href='https://wandb.ai/pmpbu/grp4_class_imb' target=\"_blank\">https://wandb.ai/pmpbu/grp4_class_imb</a>"
      ],
      "text/plain": [
       "<IPython.core.display.HTML object>"
      ]
     },
     "metadata": {},
     "output_type": "display_data"
    },
    {
     "data": {
      "text/html": [
       " View sweep at <a href='https://wandb.ai/pmpbu/grp4_class_imb/sweeps/yumwnpli' target=\"_blank\">https://wandb.ai/pmpbu/grp4_class_imb/sweeps/yumwnpli</a>"
      ],
      "text/plain": [
       "<IPython.core.display.HTML object>"
      ]
     },
     "metadata": {},
     "output_type": "display_data"
    },
    {
     "data": {
      "text/html": [
       " View run at <a href='https://wandb.ai/pmpbu/grp4_class_imb/runs/tud7fvjx' target=\"_blank\">https://wandb.ai/pmpbu/grp4_class_imb/runs/tud7fvjx</a>"
      ],
      "text/plain": [
       "<IPython.core.display.HTML object>"
      ]
     },
     "metadata": {},
     "output_type": "display_data"
    },
    {
     "name": "stderr",
     "output_type": "stream",
     "text": [
      "/usr4/ba820/pmpatel/.local/lib/python3.10/site-packages/torch/nn/modules/lazy.py:181: UserWarning: Lazy modules are a new feature under heavy development so changes to the API or functionality can happen at any moment.\n",
      "  warnings.warn('Lazy modules are a new feature under heavy development '\n"
     ]
    },
    {
     "name": "stdout",
     "output_type": "stream",
     "text": [
      "Epoch [1/10], Loss: 1.0385, Accuracy: 38.37%\n",
      "Epoch [2/10], Loss: 0.6524, Accuracy: 60.42%\n",
      "Epoch [3/10], Loss: 0.6618, Accuracy: 55.89%\n",
      "Epoch [4/10], Loss: 0.5467, Accuracy: 83.08%\n",
      "Epoch [5/10], Loss: 0.5059, Accuracy: 75.83%\n",
      "Epoch [6/10], Loss: 0.4391, Accuracy: 96.07%\n",
      "Epoch [7/10], Loss: 0.3750, Accuracy: 91.84%\n",
      "Epoch [8/10], Loss: 0.3556, Accuracy: 89.43%\n",
      "Epoch [9/10], Loss: 0.3040, Accuracy: 96.37%\n",
      "Epoch [10/10], Loss: 0.2480, Accuracy: 99.09%\n",
      "Validation Accuracy: 36.59%\n",
      "Test Accuracy: 36.89%\n"
     ]
    },
    {
     "data": {
      "image/png": "[encoded data removed]",
      "text/plain": [
       "<Figure size 800x600 with 2 Axes>"
      ]
     },
     "metadata": {},
     "output_type": "display_data"
    },
    {
     "data": {
      "image/png": "[encoded data removed]",
      "text/plain": [
       "<Figure size 800x600 with 2 Axes>"
      ]
     },
     "metadata": {},
     "output_type": "display_data"
    },
    {
     "data": {
      "application/vnd.jupyter.widget-view+json": {
       "model_id": "2ec49b0fb1664d47802efeabb54a2e83",
       "version_major": 2,
       "version_minor": 0
      },
      "text/plain": [
       "VBox(children=(Label(value='0.003 MB of 0.003 MB uploaded\\r'), FloatProgress(value=1.0, max=1.0)))"
      ]
     },
     "metadata": {},
     "output_type": "display_data"
    },
    {
     "data": {
      "text/html": [
       "<style>\n",
       "    table.wandb td:nth-child(1) { padding: 0 10px; text-align: left ; width: auto;} td:nth-child(2) {text-align: left ; width: 100%}\n",
       "    .wandb-row { display: flex; flex-direction: row; flex-wrap: wrap; justify-content: flex-start; width: 100% }\n",
       "    .wandb-col { display: flex; flex-direction: column; flex-basis: 100%; flex: 1; padding: 10px; }\n",
       "    </style>\n",
       "<div class=\"wandb-row\"><div class=\"wandb-col\"><h3>Run summary:</h3><br/><table class=\"wandb\"><tr><td>test_accuracy</td><td>36.8932</td></tr><tr><td>val_accuracy</td><td>36.58537</td></tr></table><br/></div></div>"
      ],
      "text/plain": [
       "<IPython.core.display.HTML object>"
      ]
     },
     "metadata": {},
     "output_type": "display_data"
    },
    {
     "data": {
      "text/html": [
       " View run <strong style=\"color:#cdcd00\">northern-sweep-2</strong> at: <a href='https://wandb.ai/pmpbu/grp4_class_imb/runs/tud7fvjx' target=\"_blank\">https://wandb.ai/pmpbu/grp4_class_imb/runs/tud7fvjx</a><br/> View project at: <a href='https://wandb.ai/pmpbu/grp4_class_imb' target=\"_blank\">https://wandb.ai/pmpbu/grp4_class_imb</a><br/>Synced 5 W&B file(s), 0 media file(s), 0 artifact file(s) and 0 other file(s)"
      ],
      "text/plain": [
       "<IPython.core.display.HTML object>"
      ]
     },
     "metadata": {},
     "output_type": "display_data"
    },
    {
     "data": {
      "text/html": [
       "Find logs at: <code>./wandb/run-20240425_145804-tud7fvjx/logs</code>"
      ],
      "text/plain": [
       "<IPython.core.display.HTML object>"
      ]
     },
     "metadata": {},
     "output_type": "display_data"
    },
    {
     "name": "stderr",
     "output_type": "stream",
     "text": [
      "\u001b[34m\u001b[1mwandb\u001b[0m: Sweep Agent: Waiting for job.\n",
      "\u001b[34m\u001b[1mwandb\u001b[0m: Job received.\n",
      "\u001b[34m\u001b[1mwandb\u001b[0m: Agent Starting Run: mhfrcjkt with config:\n",
      "\u001b[34m\u001b[1mwandb\u001b[0m: \tbatch_size: 64\n",
      "\u001b[34m\u001b[1mwandb\u001b[0m: \tkernel_size: 3\n",
      "\u001b[34m\u001b[1mwandb\u001b[0m: \tlearning_rate: 0.001\n",
      "Failed to detect the name of this notebook, you can set it manually with the WANDB_NOTEBOOK_NAME environment variable to enable code saving.\n"
     ]
    },
    {
     "data": {
      "text/html": [
       "Tracking run with wandb version 0.16.6"
      ],
      "text/plain": [
       "<IPython.core.display.HTML object>"
      ]
     },
     "metadata": {},
     "output_type": "display_data"
    },
    {
     "data": {
      "text/html": [
       "Run data is saved locally in <code>/projectnb/ba865/students/pmpatel/wandb/run-20240425_151428-mhfrcjkt</code>"
      ],
      "text/plain": [
       "<IPython.core.display.HTML object>"
      ]
     },
     "metadata": {},
     "output_type": "display_data"
    },
    {
     "data": {
      "text/html": [
       "Syncing run <strong><a href='https://wandb.ai/pmpbu/grp4_class_imb/runs/mhfrcjkt' target=\"_blank\">rural-sweep-3</a></strong> to <a href='https://wandb.ai/pmpbu/grp4_class_imb' target=\"_blank\">Weights & Biases</a> (<a href='https://wandb.me/run' target=\"_blank\">docs</a>)<br/>Sweep page: <a href='https://wandb.ai/pmpbu/grp4_class_imb/sweeps/yumwnpli' target=\"_blank\">https://wandb.ai/pmpbu/grp4_class_imb/sweeps/yumwnpli</a>"
      ],
      "text/plain": [
       "<IPython.core.display.HTML object>"
      ]
     },
     "metadata": {},
     "output_type": "display_data"
    },
    {
     "data": {
      "text/html": [
       " View project at <a href='https://wandb.ai/pmpbu/grp4_class_imb' target=\"_blank\">https://wandb.ai/pmpbu/grp4_class_imb</a>"
      ],
      "text/plain": [
       "<IPython.core.display.HTML object>"
      ]
     },
     "metadata": {},
     "output_type": "display_data"
    },
    {
     "data": {
      "text/html": [
       " View sweep at <a href='https://wandb.ai/pmpbu/grp4_class_imb/sweeps/yumwnpli' target=\"_blank\">https://wandb.ai/pmpbu/grp4_class_imb/sweeps/yumwnpli</a>"
      ],
      "text/plain": [
       "<IPython.core.display.HTML object>"
      ]
     },
     "metadata": {},
     "output_type": "display_data"
    },
    {
     "data": {
      "text/html": [
       " View run at <a href='https://wandb.ai/pmpbu/grp4_class_imb/runs/mhfrcjkt' target=\"_blank\">https://wandb.ai/pmpbu/grp4_class_imb/runs/mhfrcjkt</a>"
      ],
      "text/plain": [
       "<IPython.core.display.HTML object>"
      ]
     },
     "metadata": {},
     "output_type": "display_data"
    },
    {
     "name": "stderr",
     "output_type": "stream",
     "text": [
      "/usr4/ba820/pmpatel/.local/lib/python3.10/site-packages/torch/nn/modules/lazy.py:181: UserWarning: Lazy modules are a new feature under heavy development so changes to the API or functionality can happen at any moment.\n",
      "  warnings.warn('Lazy modules are a new feature under heavy development '\n"
     ]
    },
    {
     "name": "stdout",
     "output_type": "stream",
     "text": [
      "Epoch [1/10], Loss: 7.9551, Accuracy: 59.82%\n"
     ]
    }
   ],
   "source": [
    "## Class imbalance sweeps\n",
    "\n",
    "\n",
    "# batch_size\": {\"values\": [32, 15]},\n",
    "# \"learning_rate\": {\"values\": [1e-2, 1e-3, 1e-4]},\n",
    "# 'kernel_size': {'values': [2, 3, 4]}\n",
    "\n",
    "from sklearn.metrics import confusion_matrix\n",
    "import seaborn as sns\n",
    "import matplotlib.pyplot as plt\n",
    "import wandb\n",
    "import torch\n",
    "import torch.nn as nn\n",
    "import torch.optim as optim\n",
    "from torchvision import datasets, transforms\n",
    "from torch.utils.data import DataLoader, random_split\n",
    "\n",
    "\n",
    "# Initialize WandB\n",
    "wandb.login()\n",
    "\n",
    "# Define sweep configuration\n",
    "sweep_configuration = {\n",
    "    \"method\": \"grid\",\n",
    "    \"name\": \"Class_imb\",\n",
    "    \"metric\": {\"goal\": \"maximize\", \"name\": \"val_acc\"},\n",
    "    \"parameters\": {\n",
    "        \"batch_size\": {\"values\": [64, 32, 15]},\n",
    "        \"learning_rate\": {\"values\": [1e-3, 1e-4]},\n",
    "        'kernel_size': {'values': [2, 3, 4]}\n",
    "    }\n",
    "}\n",
    "\n",
    "# Main function to run a single experiment\n",
    "def main():\n",
    "    run = wandb.init()\n",
    "\n",
    "    # Load data\n",
    "    training_path = \"Disease Grading/1. Original Images/a. Training Directory\"\n",
    "    testing_path = \"Disease Grading/1. Original Images/b. Testing Directory\"\n",
    "\n",
    "    # Define transforms for training and augmentation\n",
    "    transform_train = transforms.Compose([\n",
    "        transforms.Resize((448, 600)),  # Resize images to a fixed size\n",
    "        transforms.RandomHorizontalFlip(),\n",
    "        transforms.RandomRotation(degrees=15),\n",
    "        transforms.ToTensor(),\n",
    "    ])\n",
    "\n",
    "    # No augmentation for validation and test sets\n",
    "    transform_val_test = transforms.Compose([\n",
    "        transforms.Resize((448, 600)),\n",
    "        transforms.ToTensor(),\n",
    "    ])\n",
    "\n",
    "    # Class weights for the dataset\n",
    "    class_weights = [0.324455, 0.048426, 0.329298, 0.179177, 0.118644]\n",
    "\n",
    "    train_dataset = torchvision.datasets.ImageFolder(training_path, transform=transform_train)\n",
    "    train_dataset, val_dataset = random_split(train_dataset, [0.8, 0.2])\n",
    "    test_dataset = torchvision.datasets.ImageFolder(testing_path, transform=transform_val_test)\n",
    "\n",
    "    # Data loaders\n",
    "    sampler = WeightedRandomSampler(weights=class_weights, num_samples=len(train_dataset), replacement=True)\n",
    "\n",
    "    # DataLoader for training and validation\n",
    "    train_loader = DataLoader(train_dataset, batch_size=run.config.batch_size, sampler=sampler)\n",
    "    val_loader = DataLoader(val_dataset, batch_size=run.config.batch_size, shuffle=True)\n",
    "    test_loader = DataLoader(dataset=test_dataset, batch_size=run.config.batch_size, shuffle=False)\n",
    "\n",
    "    \n",
    "    # Define the CNN model\n",
    "    class CNN(nn.Module):\n",
    "        def __init__(self, kernel_size, output_size):\n",
    "            super(CNN, self).__init__()\n",
    "            self.model = nn.Sequential(\n",
    "                nn.Conv2d(3, 4, kernel_size),\n",
    "                nn.ReLU(),\n",
    "                nn.Conv2d(4, 8, kernel_size),\n",
    "                nn.ReLU(),\n",
    "                nn.Conv2d(8, 16, kernel_size),\n",
    "                nn.ReLU(),\n",
    "                nn.MaxPool2d(2),\n",
    "                nn.Conv2d(16, 32, kernel_size),\n",
    "                nn.MaxPool2d(2),\n",
    "                nn.Flatten(),\n",
    "                nn.LazyLinear(output_size) \n",
    "            )\n",
    "\n",
    "        def forward(self, x):\n",
    "            return self.model(x)\n",
    "    \n",
    "    \n",
    "    # Initialize model\n",
    "    model = CNN(run.config.kernel_size, 5)\n",
    "\n",
    "    # Training the model\n",
    "    criterion = nn.CrossEntropyLoss()\n",
    "    optimizer = optim.Adam(model.parameters(), lr=run.config.learning_rate)\n",
    "    num_epochs = 10\n",
    "    for epoch in range(num_epochs):\n",
    "        running_loss = 0.0\n",
    "        correct_train = 0\n",
    "        total_train = 0\n",
    "        for i, (inputs, labels) in enumerate(train_loader):\n",
    "            optimizer.zero_grad()\n",
    "            outputs = model(inputs)\n",
    "            loss = criterion(outputs, labels)\n",
    "            loss.backward()\n",
    "            optimizer.step()\n",
    "            running_loss += loss.item()\n",
    "\n",
    "            _, predicted = torch.max(outputs.data, 1)\n",
    "            total_train += labels.size(0)\n",
    "            correct_train += (predicted == labels).sum().item()\n",
    "\n",
    "        epoch_loss = running_loss / len(train_loader)\n",
    "        epoch_accuracy = 100 * correct_train / total_train\n",
    "        print(f'Epoch [{epoch + 1}/{num_epochs}], Loss: {epoch_loss:.4f}, Accuracy: {epoch_accuracy:.2f}%')\n",
    "\n",
    "    # Evaluate the model on validation set\n",
    "    model.eval()\n",
    "    correct_val = 0\n",
    "    total_val = 0\n",
    "    val_preds = []\n",
    "    val_targets = []\n",
    "    with torch.no_grad():\n",
    "        for inputs, labels in val_loader:\n",
    "            outputs = model(inputs)\n",
    "            _, predicted = torch.max(outputs.data, 1)\n",
    "            total_val += labels.size(0)\n",
    "            correct_val += (predicted == labels).sum().item()\n",
    "            val_preds.extend(predicted.tolist())\n",
    "            val_targets.extend(labels.tolist())\n",
    "    val_accuracy = 100 * correct_val / total_val\n",
    "    print('Validation Accuracy: {:.2f}%'.format(val_accuracy))\n",
    "\n",
    "    # Log validation accuracy\n",
    "    wandb.run.summary[\"val_accuracy\"] = val_accuracy\n",
    "\n",
    "    # Evaluate the model on test set\n",
    "    correct_test = 0\n",
    "    total_test = 0\n",
    "    test_preds = []\n",
    "    test_targets = []\n",
    "    with torch.no_grad():\n",
    "        for inputs, labels in test_loader:\n",
    "            outputs = model(inputs)\n",
    "            _, predicted = torch.max(outputs.data, 1)\n",
    "            total_test += labels.size(0)\n",
    "            correct_test += (predicted == labels).sum().item()\n",
    "            test_preds.extend(predicted.tolist())\n",
    "            test_targets.extend(labels.tolist())\n",
    "    test_accuracy = 100 * correct_test / total_test\n",
    "    print('Test Accuracy: {:.2f}%'.format(test_accuracy))\n",
    "\n",
    "    # Log test accuracy\n",
    "    wandb.run.summary[\"test_accuracy\"] = test_accuracy\n",
    "\n",
    "    # Confusion matrix for validation set\n",
    "    val_conf_matrix = confusion_matrix(val_targets, val_preds)\n",
    "    plt.figure(figsize=(8, 6))\n",
    "    sns.heatmap(val_conf_matrix, annot=True, fmt=\"d\", cmap=\"Purples\")\n",
    "    plt.xlabel(\"Predicted labels\")\n",
    "    plt.ylabel(\"True labels\")\n",
    "    plt.title(\"Confusion Matrix for Validation\")\n",
    "    plt.show()\n",
    "\n",
    "    # Confusion matrix for test set\n",
    "    test_conf_matrix = confusion_matrix(test_targets, test_preds)\n",
    "    plt.figure(figsize=(8, 6))\n",
    "    sns.heatmap(test_conf_matrix, annot=True, fmt=\"d\", cmap=\"Purples\")\n",
    "    plt.xlabel(\"Predicted labels\")\n",
    "    plt.ylabel(\"True labels\")\n",
    "    plt.title(\"Confusion Matrix for Test\")\n",
    "    plt.show()\n",
    "\n",
    "\n",
    "# Initialize sweep\n",
    "sweep_id = wandb.sweep(sweep=sweep_configuration, project='grp4_class_imb')\n",
    "\n",
    "# Start sweep job\n",
    "wandb.agent(sweep_id, function=main)\n"
   ]
  },
  {
   "cell_type": "code",
   "execution_count": null,
   "id": "75b9d552",
   "metadata": {},
   "outputs": [],
   "source": []
  }
 ],
 "metadata": {
  "kernelspec": {
   "display_name": "Python 3 (ipykernel)",
   "language": "python",
   "name": "python3"
  },
  "language_info": {
   "codemirror_mode": {
    "name": "ipython",
    "version": 3
   },
   "file_extension": ".py",
   "mimetype": "text/x-python",
   "name": "python",
   "nbconvert_exporter": "python",
   "pygments_lexer": "ipython3",
   "version": "3.10.12"
  }
 },
 "nbformat": 4,
 "nbformat_minor": 5
}
