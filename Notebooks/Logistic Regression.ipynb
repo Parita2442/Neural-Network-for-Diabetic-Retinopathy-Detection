{
  "cells": [
    {
      "cell_type": "code",
      "execution_count": null,
      "id": "4010675b",
      "metadata": {
        "id": "4010675b",
        "outputId": "ae59220f-9d3f-4429-f7c7-7e54270aaab2",
        "scrolled": true
      },
      "outputs": [
        {
          "name": "stdout",
          "output_type": "stream",
          "text": [
            "Defaulting to user installation because normal site-packages is not writeable\n",
            "Requirement already satisfied: torchvision in /usr4/ba820/arauthan/.local/lib/python3.10/site-packages (0.17.2)\n",
            "Requirement already satisfied: numpy in /share/pkg.8/python3/3.10.12/install/lib/python3.10/site-packages (from torchvision) (1.24.4)\n",
            "Requirement already satisfied: torch==2.2.2 in /usr4/ba820/arauthan/.local/lib/python3.10/site-packages (from torchvision) (2.2.2)\n",
            "Requirement already satisfied: pillow!=8.3.*,>=5.3.0 in /share/pkg.8/python3/3.10.12/install/lib/python3.10/site-packages (from torchvision) (10.0.0)\n",
            "Requirement already satisfied: filelock in /share/pkg.8/python3/3.10.12/install/lib/python3.10/site-packages (from torch==2.2.2->torchvision) (3.12.2)\n",
            "Requirement already satisfied: typing-extensions>=4.8.0 in /usr4/ba820/arauthan/.local/lib/python3.10/site-packages (from torch==2.2.2->torchvision) (4.11.0)\n",
            "Requirement already satisfied: sympy in /share/pkg.8/python3/3.10.12/install/lib/python3.10/site-packages (from torch==2.2.2->torchvision) (1.12)\n",
            "Requirement already satisfied: networkx in /share/pkg.8/python3/3.10.12/install/lib/python3.10/site-packages (from torch==2.2.2->torchvision) (3.1)\n",
            "Requirement already satisfied: jinja2 in /share/pkg.8/python3/3.10.12/install/lib/python3.10/site-packages (from torch==2.2.2->torchvision) (3.1.2)\n",
            "Requirement already satisfied: fsspec in /share/pkg.8/python3/3.10.12/install/lib/python3.10/site-packages (from torch==2.2.2->torchvision) (2023.6.0)\n",
            "Requirement already satisfied: nvidia-cuda-nvrtc-cu12==12.1.105 in /usr4/ba820/arauthan/.local/lib/python3.10/site-packages (from torch==2.2.2->torchvision) (12.1.105)\n",
            "Requirement already satisfied: nvidia-cuda-runtime-cu12==12.1.105 in /usr4/ba820/arauthan/.local/lib/python3.10/site-packages (from torch==2.2.2->torchvision) (12.1.105)\n",
            "Requirement already satisfied: nvidia-cuda-cupti-cu12==12.1.105 in /usr4/ba820/arauthan/.local/lib/python3.10/site-packages (from torch==2.2.2->torchvision) (12.1.105)\n",
            "Requirement already satisfied: nvidia-cudnn-cu12==8.9.2.26 in /usr4/ba820/arauthan/.local/lib/python3.10/site-packages (from torch==2.2.2->torchvision) (8.9.2.26)\n",
            "Requirement already satisfied: nvidia-cublas-cu12==12.1.3.1 in /usr4/ba820/arauthan/.local/lib/python3.10/site-packages (from torch==2.2.2->torchvision) (12.1.3.1)\n",
            "Requirement already satisfied: nvidia-cufft-cu12==11.0.2.54 in /usr4/ba820/arauthan/.local/lib/python3.10/site-packages (from torch==2.2.2->torchvision) (11.0.2.54)\n",
            "Requirement already satisfied: nvidia-curand-cu12==10.3.2.106 in /usr4/ba820/arauthan/.local/lib/python3.10/site-packages (from torch==2.2.2->torchvision) (10.3.2.106)\n",
            "Requirement already satisfied: nvidia-cusolver-cu12==11.4.5.107 in /usr4/ba820/arauthan/.local/lib/python3.10/site-packages (from torch==2.2.2->torchvision) (11.4.5.107)\n",
            "Requirement already satisfied: nvidia-cusparse-cu12==12.1.0.106 in /usr4/ba820/arauthan/.local/lib/python3.10/site-packages (from torch==2.2.2->torchvision) (12.1.0.106)\n",
            "Requirement already satisfied: nvidia-nccl-cu12==2.19.3 in /usr4/ba820/arauthan/.local/lib/python3.10/site-packages (from torch==2.2.2->torchvision) (2.19.3)\n",
            "Requirement already satisfied: nvidia-nvtx-cu12==12.1.105 in /usr4/ba820/arauthan/.local/lib/python3.10/site-packages (from torch==2.2.2->torchvision) (12.1.105)\n",
            "Requirement already satisfied: triton==2.2.0 in /usr4/ba820/arauthan/.local/lib/python3.10/site-packages (from torch==2.2.2->torchvision) (2.2.0)\n",
            "Requirement already satisfied: nvidia-nvjitlink-cu12 in /usr4/ba820/arauthan/.local/lib/python3.10/site-packages (from nvidia-cusolver-cu12==11.4.5.107->torch==2.2.2->torchvision) (12.4.127)\n",
            "Requirement already satisfied: MarkupSafe>=2.0 in /share/pkg.8/python3/3.10.12/install/lib/python3.10/site-packages (from jinja2->torch==2.2.2->torchvision) (2.1.3)\n",
            "Requirement already satisfied: mpmath>=0.19 in /share/pkg.8/python3/3.10.12/install/lib/python3.10/site-packages (from sympy->torch==2.2.2->torchvision) (1.3.0)\n"
          ]
        }
      ],
      "source": [
        "!pip install torchvision"
      ]
    },
    {
      "cell_type": "code",
      "execution_count": null,
      "id": "3d5f3dbc",
      "metadata": {
        "id": "3d5f3dbc",
        "outputId": "4703424e-f973-4523-94b7-15e8a07b562e"
      },
      "outputs": [
        {
          "name": "stdout",
          "output_type": "stream",
          "text": [
            "Defaulting to user installation because normal site-packages is not writeable\n",
            "Requirement already satisfied: pip in /usr4/ba820/arauthan/.local/lib/python3.10/site-packages (24.0)\n",
            "Note: you may need to restart the kernel to use updated packages.\n"
          ]
        }
      ],
      "source": [
        "pip install --upgrade pip"
      ]
    },
    {
      "cell_type": "code",
      "execution_count": null,
      "id": "510c3920",
      "metadata": {
        "id": "510c3920",
        "outputId": "7ff946a2-1588-45e6-caa7-319226fa6f8b"
      },
      "outputs": [
        {
          "name": "stdout",
          "output_type": "stream",
          "text": [
            "Defaulting to user installation because normal site-packages is not writeable\n",
            "Requirement already satisfied: torch in /usr4/ba820/arauthan/.local/lib/python3.10/site-packages (2.2.2)\n",
            "Requirement already satisfied: filelock in /share/pkg.8/python3/3.10.12/install/lib/python3.10/site-packages (from torch) (3.12.2)\n",
            "Requirement already satisfied: typing-extensions>=4.8.0 in /usr4/ba820/arauthan/.local/lib/python3.10/site-packages (from torch) (4.11.0)\n",
            "Requirement already satisfied: sympy in /share/pkg.8/python3/3.10.12/install/lib/python3.10/site-packages (from torch) (1.12)\n",
            "Requirement already satisfied: networkx in /share/pkg.8/python3/3.10.12/install/lib/python3.10/site-packages (from torch) (3.1)\n",
            "Requirement already satisfied: jinja2 in /share/pkg.8/python3/3.10.12/install/lib/python3.10/site-packages (from torch) (3.1.2)\n",
            "Requirement already satisfied: fsspec in /share/pkg.8/python3/3.10.12/install/lib/python3.10/site-packages (from torch) (2023.6.0)\n",
            "Requirement already satisfied: nvidia-cuda-nvrtc-cu12==12.1.105 in /usr4/ba820/arauthan/.local/lib/python3.10/site-packages (from torch) (12.1.105)\n",
            "Requirement already satisfied: nvidia-cuda-runtime-cu12==12.1.105 in /usr4/ba820/arauthan/.local/lib/python3.10/site-packages (from torch) (12.1.105)\n",
            "Requirement already satisfied: nvidia-cuda-cupti-cu12==12.1.105 in /usr4/ba820/arauthan/.local/lib/python3.10/site-packages (from torch) (12.1.105)\n",
            "Requirement already satisfied: nvidia-cudnn-cu12==8.9.2.26 in /usr4/ba820/arauthan/.local/lib/python3.10/site-packages (from torch) (8.9.2.26)\n",
            "Requirement already satisfied: nvidia-cublas-cu12==12.1.3.1 in /usr4/ba820/arauthan/.local/lib/python3.10/site-packages (from torch) (12.1.3.1)\n",
            "Requirement already satisfied: nvidia-cufft-cu12==11.0.2.54 in /usr4/ba820/arauthan/.local/lib/python3.10/site-packages (from torch) (11.0.2.54)\n",
            "Requirement already satisfied: nvidia-curand-cu12==10.3.2.106 in /usr4/ba820/arauthan/.local/lib/python3.10/site-packages (from torch) (10.3.2.106)\n",
            "Requirement already satisfied: nvidia-cusolver-cu12==11.4.5.107 in /usr4/ba820/arauthan/.local/lib/python3.10/site-packages (from torch) (11.4.5.107)\n",
            "Requirement already satisfied: nvidia-cusparse-cu12==12.1.0.106 in /usr4/ba820/arauthan/.local/lib/python3.10/site-packages (from torch) (12.1.0.106)\n",
            "Requirement already satisfied: nvidia-nccl-cu12==2.19.3 in /usr4/ba820/arauthan/.local/lib/python3.10/site-packages (from torch) (2.19.3)\n",
            "Requirement already satisfied: nvidia-nvtx-cu12==12.1.105 in /usr4/ba820/arauthan/.local/lib/python3.10/site-packages (from torch) (12.1.105)\n",
            "Requirement already satisfied: triton==2.2.0 in /usr4/ba820/arauthan/.local/lib/python3.10/site-packages (from torch) (2.2.0)\n",
            "Requirement already satisfied: nvidia-nvjitlink-cu12 in /usr4/ba820/arauthan/.local/lib/python3.10/site-packages (from nvidia-cusolver-cu12==11.4.5.107->torch) (12.4.127)\n",
            "Requirement already satisfied: MarkupSafe>=2.0 in /share/pkg.8/python3/3.10.12/install/lib/python3.10/site-packages (from jinja2->torch) (2.1.3)\n",
            "Requirement already satisfied: mpmath>=0.19 in /share/pkg.8/python3/3.10.12/install/lib/python3.10/site-packages (from sympy->torch) (1.3.0)\n",
            "Note: you may need to restart the kernel to use updated packages.\n"
          ]
        }
      ],
      "source": [
        "pip install torch"
      ]
    },
    {
      "cell_type": "code",
      "execution_count": null,
      "id": "7583340f",
      "metadata": {
        "id": "7583340f"
      },
      "outputs": [],
      "source": [
        "import pandas as pd\n",
        "import numpy as np\n",
        "import torch\n",
        "import torch.nn as nn\n",
        "import torch.optim as optim\n",
        "from torchvision import datasets, transforms\n",
        "import torchvision\n",
        "from torch.utils.data import DataLoader, random_split\n",
        "from torch.utils.data import DataLoader, Dataset\n",
        "import torchvision.transforms as T\n",
        "import torch\n",
        "import torch.nn as nn\n",
        "from torchvision.utils import make_grid\n",
        "from torchvision.utils import save_image\n",
        "from IPython.display import Image\n",
        "import matplotlib.pyplot as plt\n",
        "import numpy as np\n",
        "import random\n",
        "%matplotlib inline"
      ]
    },
    {
      "cell_type": "code",
      "execution_count": null,
      "id": "f6e63724",
      "metadata": {
        "id": "f6e63724",
        "outputId": "cee9a3b5-a35b-4efc-a1da-af41591f2853"
      },
      "outputs": [
        {
          "data": {
            "text/plain": [
              "(    Image name  Retinopathy grade  Risk of macular edema \n",
              " 0    IDRiD_001                  3                       2\n",
              " 1    IDRiD_002                  3                       2\n",
              " 2    IDRiD_003                  2                       2\n",
              " 3    IDRiD_004                  3                       2\n",
              " 4    IDRiD_005                  4                       0\n",
              " ..         ...                ...                     ...\n",
              " 408  IDRiD_409                  2                       1\n",
              " 409  IDRiD_410                  2                       0\n",
              " 410  IDRiD_411                  2                       0\n",
              " 411  IDRiD_412                  2                       0\n",
              " 412  IDRiD_413                  2                       0\n",
              " \n",
              " [413 rows x 3 columns],\n",
              "     Image name  Retinopathy grade  Risk of macular edema \n",
              " 0    IDRiD_001                  4                       0\n",
              " 1    IDRiD_002                  4                       1\n",
              " 2    IDRiD_003                  4                       0\n",
              " 3    IDRiD_004                  4                       0\n",
              " 4    IDRiD_005                  4                       1\n",
              " ..         ...                ...                     ...\n",
              " 98   IDRiD_099                  0                       0\n",
              " 99   IDRiD_100                  2                       1\n",
              " 100  IDRiD_101                  1                       0\n",
              " 101  IDRiD_102                  2                       2\n",
              " 102  IDRiD_103                  0                       0\n",
              " \n",
              " [103 rows x 3 columns])"
            ]
          },
          "execution_count": 2,
          "metadata": {},
          "output_type": "execute_result"
        }
      ],
      "source": [
        "labels_training = pd.read_csv(\"Disease Grading/2. Groundtruths/a. IDRiD_Disease Grading_Training Labels.csv\")\n",
        "labels_testing = pd.read_csv(\"Disease Grading/2. Groundtruths/b. IDRiD_Disease Grading_Testing Labels.csv\")\n",
        "labels_training.dropna(axis = 1, inplace = True)\n",
        "labels_training, labels_testing"
      ]
    },
    {
      "cell_type": "code",
      "execution_count": null,
      "id": "48734ba6",
      "metadata": {
        "id": "48734ba6"
      },
      "outputs": [],
      "source": [
        "training_path = \"Disease Grading/1. Original Images/a. Training Set\"\n",
        "testing_path = \"Disease Grading/1. Original Images/b. Testing Set\"\n",
        "\n",
        "# Transformers\n",
        "transform = transforms.Compose([\n",
        "        transforms.RandomHorizontalFlip(0.5),\n",
        "        transforms.Resize([224, 300]),\n",
        "        transforms.RandomAffine(0, shear=10, scale=(0.8,1.2)),\n",
        "        transforms.RandomRotation(45),\n",
        "        transforms.ToTensor(),\n",
        "        transforms.Normalize(mean=[0.485, 0.456, 0.406], std=[0.229, 0.224, 0.225])\n",
        "])\n",
        "\n",
        "train_dataset = torchvision.datasets.ImageFolder(training_path, transform = transform)\n",
        "train_dataset, val_dataset = random_split(train_dataset, [0.8, 0.2])\n",
        "test_dataset = torchvision.datasets.ImageFolder(testing_path, transform = transform)\n",
        "\n",
        "# Data loaders\n",
        "train_loader = DataLoader(dataset=train_dataset, batch_size = 64, shuffle=True)\n",
        "val_loader = DataLoader(dataset=val_dataset, batch_size = 64, shuffle=False)\n",
        "test_loader = DataLoader(dataset=test_dataset, batch_size = 64, shuffle=False)"
      ]
    },
    {
      "cell_type": "code",
      "execution_count": null,
      "id": "c8ba2dea",
      "metadata": {
        "id": "c8ba2dea",
        "outputId": "4142bfb0-cd9a-42b3-bf6c-cec37d2bfc17"
      },
      "outputs": [
        {
          "data": {
            "text/plain": [
              "tensor([[[-2.1179, -2.1179, -2.1179,  ..., -2.1179, -2.1179, -2.1179],\n",
              "         [-2.1179, -2.1179, -2.1179,  ..., -2.1179, -2.1179, -2.1179],\n",
              "         [-2.1179, -2.1179, -2.1179,  ..., -2.1179, -2.1179, -2.1179],\n",
              "         ...,\n",
              "         [-2.1179, -2.1179, -2.1179,  ..., -2.1179, -2.1179, -2.1179],\n",
              "         [-2.1179, -2.1179, -2.1179,  ..., -2.1179, -2.1179, -2.1179],\n",
              "         [-2.1179, -2.1179, -2.1179,  ..., -2.1179, -2.1179, -2.1179]],\n",
              "\n",
              "        [[-2.0357, -2.0357, -2.0357,  ..., -2.0357, -2.0357, -2.0357],\n",
              "         [-2.0357, -2.0357, -2.0357,  ..., -2.0357, -2.0357, -2.0357],\n",
              "         [-2.0357, -2.0357, -2.0357,  ..., -2.0357, -2.0357, -2.0357],\n",
              "         ...,\n",
              "         [-2.0357, -2.0357, -2.0357,  ..., -2.0357, -2.0357, -2.0357],\n",
              "         [-2.0357, -2.0357, -2.0357,  ..., -2.0357, -2.0357, -2.0357],\n",
              "         [-2.0357, -2.0357, -2.0357,  ..., -2.0357, -2.0357, -2.0357]],\n",
              "\n",
              "        [[-1.8044, -1.8044, -1.8044,  ..., -1.8044, -1.8044, -1.8044],\n",
              "         [-1.8044, -1.8044, -1.8044,  ..., -1.8044, -1.8044, -1.8044],\n",
              "         [-1.8044, -1.8044, -1.8044,  ..., -1.8044, -1.8044, -1.8044],\n",
              "         ...,\n",
              "         [-1.8044, -1.8044, -1.8044,  ..., -1.8044, -1.8044, -1.8044],\n",
              "         [-1.8044, -1.8044, -1.8044,  ..., -1.8044, -1.8044, -1.8044],\n",
              "         [-1.8044, -1.8044, -1.8044,  ..., -1.8044, -1.8044, -1.8044]]])"
            ]
          },
          "execution_count": 10,
          "metadata": {},
          "output_type": "execute_result"
        }
      ],
      "source": [
        "train_dataset[0][0]"
      ]
    },
    {
      "cell_type": "code",
      "execution_count": null,
      "id": "959f936b",
      "metadata": {
        "id": "959f936b",
        "outputId": "8e793bbd-5032-4f43-8416-e2d743aab678"
      },
      "outputs": [
        {
          "data": {
            "text/plain": [
              "torch.Size([3, 224, 300])"
            ]
          },
          "execution_count": 11,
          "metadata": {},
          "output_type": "execute_result"
        }
      ],
      "source": [
        "from PIL import Image\n",
        "\n",
        "sample_image = Image.open(\"Disease Grading/1. Original Images/a. Training Set/Class0/IDRiD_118.jpg\")\n",
        "\n",
        "transformed_image = transform(sample_image)\n",
        "\n",
        "transformed_image.size()"
      ]
    },
    {
      "cell_type": "markdown",
      "id": "3e2eae12",
      "metadata": {
        "id": "3e2eae12"
      },
      "source": [
        "### Logistic Regression"
      ]
    },
    {
      "cell_type": "code",
      "execution_count": null,
      "id": "2d36dcd4",
      "metadata": {
        "id": "2d36dcd4"
      },
      "outputs": [],
      "source": [
        "import torch\n",
        "import torchvision.transforms as transforms\n",
        "from torchvision.datasets import ImageFolder\n",
        "from torch.utils.data import DataLoader\n",
        "from sklearn.linear_model import LogisticRegression\n",
        "from sklearn.metrics import accuracy_score\n",
        "\n",
        "# Logistic regression model\n",
        "def extract_features(loader):\n",
        "    features = []\n",
        "    labels = []\n",
        "    for images, batch_labels in loader:\n",
        "        flattened_images = images.view(images.size(0), -1)\n",
        "        features.append(flattened_images)\n",
        "        labels.append(batch_labels)\n",
        "    features = torch.cat(features, dim=0)\n",
        "    labels = torch.cat(labels, dim=0)\n",
        "    return features.numpy(), labels.numpy()\n",
        "\n",
        "train_features, train_labels = extract_features(train_loader)\n",
        "test_features, test_labels = extract_features(test_loader)\n",
        "\n",
        "log_reg_model = LogisticRegression(max_iter=1000)\n",
        "log_reg_model.fit(train_features, train_labels)"
      ]
    },
    {
      "cell_type": "code",
      "execution_count": null,
      "id": "029db23e",
      "metadata": {
        "id": "029db23e",
        "outputId": "01171f9c-755a-478a-d4f3-d8ce89605e6a"
      },
      "outputs": [
        {
          "name": "stdout",
          "output_type": "stream",
          "text": [
            "Accuracy: 0.36893203883495146\n"
          ]
        }
      ],
      "source": [
        "# Test Predictions\n",
        "test_predictions = log_reg_model.predict(test_features)\n",
        "\n",
        "# Evaluation\n",
        "accuracy = accuracy_score(test_labels, test_predictions)\n",
        "print(\"Accuracy:\", accuracy)"
      ]
    },
    {
      "cell_type": "code",
      "execution_count": null,
      "id": "d9cb415f",
      "metadata": {
        "id": "d9cb415f",
        "outputId": "53279f4b-2e59-4979-a850-395cd545fe7a"
      },
      "outputs": [
        {
          "data": {
            "image/png": "[encoded data removed]",
            "text/plain": [
              "<Figure size 800x600 with 2 Axes>"
            ]
          },
          "metadata": {},
          "output_type": "display_data"
        }
      ],
      "source": [
        "import numpy as np\n",
        "import matplotlib.pyplot as plt\n",
        "from sklearn.metrics import confusion_matrix\n",
        "import seaborn as sns\n",
        "\n",
        "# Compute confusion matrix\n",
        "cm = confusion_matrix(test_labels, test_predictions)\n",
        "\n",
        "# Plotting confusion matrix\n",
        "plt.figure(figsize=(8, 6))\n",
        "sns.heatmap(cm, annot=True, fmt=\"d\", cmap=\"Purples\", xticklabels=np.arange(5), yticklabels=np.arange(5))\n",
        "plt.xlabel(\"Predicted labels\")\n",
        "plt.ylabel(\"True labels\")\n",
        "plt.title(\"Confusion Matrix\")\n",
        "plt.show()"
      ]
    }
  ],
  "metadata": {
    "colab": {
      "provenance": []
    },
    "kernelspec": {
      "display_name": "Python 3 (ipykernel)",
      "language": "python",
      "name": "python3"
    },
    "language_info": {
      "codemirror_mode": {
        "name": "ipython",
        "version": 3
      },
      "file_extension": ".py",
      "mimetype": "text/x-python",
      "name": "python",
      "nbconvert_exporter": "python",
      "pygments_lexer": "ipython3",
      "version": "3.10.12"
    }
  },
  "nbformat": 4,
  "nbformat_minor": 5
}