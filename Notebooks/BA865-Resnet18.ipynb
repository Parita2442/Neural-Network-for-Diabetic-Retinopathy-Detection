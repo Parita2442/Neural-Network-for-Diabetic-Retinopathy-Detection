{
 "cells": [
  {
   "cell_type": "code",
   "execution_count": 1,
   "id": "4010675b",
   "metadata": {
    "scrolled": true
   },
   "outputs": [
    {
     "name": "stdout",
     "output_type": "stream",
     "text": [
      "Defaulting to user installation because normal site-packages is not writeable\n",
      "Requirement already satisfied: torchvision in /usr4/ba820/mwangcy/.local/lib/python3.10/site-packages (0.17.2)\n",
      "Requirement already satisfied: numpy in /share/pkg.8/python3/3.10.12/install/lib/python3.10/site-packages (from torchvision) (1.24.4)\n",
      "Requirement already satisfied: torch==2.2.2 in /usr4/ba820/mwangcy/.local/lib/python3.10/site-packages (from torchvision) (2.2.2)\n",
      "Requirement already satisfied: pillow!=8.3.*,>=5.3.0 in /share/pkg.8/python3/3.10.12/install/lib/python3.10/site-packages (from torchvision) (10.0.0)\n",
      "Requirement already satisfied: filelock in /share/pkg.8/python3/3.10.12/install/lib/python3.10/site-packages (from torch==2.2.2->torchvision) (3.12.2)\n",
      "Requirement already satisfied: typing-extensions>=4.8.0 in /usr4/ba820/mwangcy/.local/lib/python3.10/site-packages (from torch==2.2.2->torchvision) (4.11.0)\n",
      "Requirement already satisfied: sympy in /share/pkg.8/python3/3.10.12/install/lib/python3.10/site-packages (from torch==2.2.2->torchvision) (1.12)\n",
      "Requirement already satisfied: networkx in /share/pkg.8/python3/3.10.12/install/lib/python3.10/site-packages (from torch==2.2.2->torchvision) (3.1)\n",
      "Requirement already satisfied: jinja2 in /share/pkg.8/python3/3.10.12/install/lib/python3.10/site-packages (from torch==2.2.2->torchvision) (3.1.2)\n",
      "Requirement already satisfied: fsspec in /share/pkg.8/python3/3.10.12/install/lib/python3.10/site-packages (from torch==2.2.2->torchvision) (2023.6.0)\n",
      "Requirement already satisfied: nvidia-cuda-nvrtc-cu12==12.1.105 in /usr4/ba820/mwangcy/.local/lib/python3.10/site-packages (from torch==2.2.2->torchvision) (12.1.105)\n",
      "Requirement already satisfied: nvidia-cuda-runtime-cu12==12.1.105 in /usr4/ba820/mwangcy/.local/lib/python3.10/site-packages (from torch==2.2.2->torchvision) (12.1.105)\n",
      "Requirement already satisfied: nvidia-cuda-cupti-cu12==12.1.105 in /usr4/ba820/mwangcy/.local/lib/python3.10/site-packages (from torch==2.2.2->torchvision) (12.1.105)\n",
      "Requirement already satisfied: nvidia-cudnn-cu12==8.9.2.26 in /usr4/ba820/mwangcy/.local/lib/python3.10/site-packages (from torch==2.2.2->torchvision) (8.9.2.26)\n",
      "Requirement already satisfied: nvidia-cublas-cu12==12.1.3.1 in /usr4/ba820/mwangcy/.local/lib/python3.10/site-packages (from torch==2.2.2->torchvision) (12.1.3.1)\n",
      "Requirement already satisfied: nvidia-cufft-cu12==11.0.2.54 in /usr4/ba820/mwangcy/.local/lib/python3.10/site-packages (from torch==2.2.2->torchvision) (11.0.2.54)\n",
      "Requirement already satisfied: nvidia-curand-cu12==10.3.2.106 in /usr4/ba820/mwangcy/.local/lib/python3.10/site-packages (from torch==2.2.2->torchvision) (10.3.2.106)\n",
      "Requirement already satisfied: nvidia-cusolver-cu12==11.4.5.107 in /usr4/ba820/mwangcy/.local/lib/python3.10/site-packages (from torch==2.2.2->torchvision) (11.4.5.107)\n",
      "Requirement already satisfied: nvidia-cusparse-cu12==12.1.0.106 in /usr4/ba820/mwangcy/.local/lib/python3.10/site-packages (from torch==2.2.2->torchvision) (12.1.0.106)\n",
      "Requirement already satisfied: nvidia-nccl-cu12==2.19.3 in /usr4/ba820/mwangcy/.local/lib/python3.10/site-packages (from torch==2.2.2->torchvision) (2.19.3)\n",
      "Requirement already satisfied: nvidia-nvtx-cu12==12.1.105 in /usr4/ba820/mwangcy/.local/lib/python3.10/site-packages (from torch==2.2.2->torchvision) (12.1.105)\n",
      "Requirement already satisfied: triton==2.2.0 in /usr4/ba820/mwangcy/.local/lib/python3.10/site-packages (from torch==2.2.2->torchvision) (2.2.0)\n",
      "Requirement already satisfied: nvidia-nvjitlink-cu12 in /usr4/ba820/mwangcy/.local/lib/python3.10/site-packages (from nvidia-cusolver-cu12==11.4.5.107->torch==2.2.2->torchvision) (12.4.127)\n",
      "Requirement already satisfied: MarkupSafe>=2.0 in /share/pkg.8/python3/3.10.12/install/lib/python3.10/site-packages (from jinja2->torch==2.2.2->torchvision) (2.1.3)\n",
      "Requirement already satisfied: mpmath>=0.19 in /share/pkg.8/python3/3.10.12/install/lib/python3.10/site-packages (from sympy->torch==2.2.2->torchvision) (1.3.0)\n",
      "Defaulting to user installation because normal site-packages is not writeable\n",
      "Requirement already satisfied: torchinfo in /usr4/ba820/mwangcy/.local/lib/python3.10/site-packages (1.8.0)\n",
      "Defaulting to user installation because normal site-packages is not writeable\n",
      "Requirement already satisfied: torchmetrics in /usr4/ba820/mwangcy/.local/lib/python3.10/site-packages (1.3.2)\n",
      "Requirement already satisfied: numpy>1.20.0 in /share/pkg.8/python3/3.10.12/install/lib/python3.10/site-packages (from torchmetrics) (1.24.4)\n",
      "Requirement already satisfied: packaging>17.1 in /share/pkg.8/python3/3.10.12/install/lib/python3.10/site-packages (from torchmetrics) (23.1)\n",
      "Requirement already satisfied: torch>=1.10.0 in /usr4/ba820/mwangcy/.local/lib/python3.10/site-packages (from torchmetrics) (2.2.2)\n",
      "Requirement already satisfied: lightning-utilities>=0.8.0 in /usr4/ba820/mwangcy/.local/lib/python3.10/site-packages (from torchmetrics) (0.11.2)\n",
      "Requirement already satisfied: setuptools in /share/pkg.8/python3/3.10.12/install/lib/python3.10/site-packages (from lightning-utilities>=0.8.0->torchmetrics) (65.5.0)\n",
      "Requirement already satisfied: typing-extensions in /usr4/ba820/mwangcy/.local/lib/python3.10/site-packages (from lightning-utilities>=0.8.0->torchmetrics) (4.11.0)\n",
      "Requirement already satisfied: filelock in /share/pkg.8/python3/3.10.12/install/lib/python3.10/site-packages (from torch>=1.10.0->torchmetrics) (3.12.2)\n",
      "Requirement already satisfied: sympy in /share/pkg.8/python3/3.10.12/install/lib/python3.10/site-packages (from torch>=1.10.0->torchmetrics) (1.12)\n",
      "Requirement already satisfied: networkx in /share/pkg.8/python3/3.10.12/install/lib/python3.10/site-packages (from torch>=1.10.0->torchmetrics) (3.1)\n",
      "Requirement already satisfied: jinja2 in /share/pkg.8/python3/3.10.12/install/lib/python3.10/site-packages (from torch>=1.10.0->torchmetrics) (3.1.2)\n",
      "Requirement already satisfied: fsspec in /share/pkg.8/python3/3.10.12/install/lib/python3.10/site-packages (from torch>=1.10.0->torchmetrics) (2023.6.0)\n",
      "Requirement already satisfied: nvidia-cuda-nvrtc-cu12==12.1.105 in /usr4/ba820/mwangcy/.local/lib/python3.10/site-packages (from torch>=1.10.0->torchmetrics) (12.1.105)\n",
      "Requirement already satisfied: nvidia-cuda-runtime-cu12==12.1.105 in /usr4/ba820/mwangcy/.local/lib/python3.10/site-packages (from torch>=1.10.0->torchmetrics) (12.1.105)\n",
      "Requirement already satisfied: nvidia-cuda-cupti-cu12==12.1.105 in /usr4/ba820/mwangcy/.local/lib/python3.10/site-packages (from torch>=1.10.0->torchmetrics) (12.1.105)\n",
      "Requirement already satisfied: nvidia-cudnn-cu12==8.9.2.26 in /usr4/ba820/mwangcy/.local/lib/python3.10/site-packages (from torch>=1.10.0->torchmetrics) (8.9.2.26)\n",
      "Requirement already satisfied: nvidia-cublas-cu12==12.1.3.1 in /usr4/ba820/mwangcy/.local/lib/python3.10/site-packages (from torch>=1.10.0->torchmetrics) (12.1.3.1)\n",
      "Requirement already satisfied: nvidia-cufft-cu12==11.0.2.54 in /usr4/ba820/mwangcy/.local/lib/python3.10/site-packages (from torch>=1.10.0->torchmetrics) (11.0.2.54)\n",
      "Requirement already satisfied: nvidia-curand-cu12==10.3.2.106 in /usr4/ba820/mwangcy/.local/lib/python3.10/site-packages (from torch>=1.10.0->torchmetrics) (10.3.2.106)\n",
      "Requirement already satisfied: nvidia-cusolver-cu12==11.4.5.107 in /usr4/ba820/mwangcy/.local/lib/python3.10/site-packages (from torch>=1.10.0->torchmetrics) (11.4.5.107)\n",
      "Requirement already satisfied: nvidia-cusparse-cu12==12.1.0.106 in /usr4/ba820/mwangcy/.local/lib/python3.10/site-packages (from torch>=1.10.0->torchmetrics) (12.1.0.106)\n",
      "Requirement already satisfied: nvidia-nccl-cu12==2.19.3 in /usr4/ba820/mwangcy/.local/lib/python3.10/site-packages (from torch>=1.10.0->torchmetrics) (2.19.3)\n",
      "Requirement already satisfied: nvidia-nvtx-cu12==12.1.105 in /usr4/ba820/mwangcy/.local/lib/python3.10/site-packages (from torch>=1.10.0->torchmetrics) (12.1.105)\n",
      "Requirement already satisfied: triton==2.2.0 in /usr4/ba820/mwangcy/.local/lib/python3.10/site-packages (from torch>=1.10.0->torchmetrics) (2.2.0)\n",
      "Requirement already satisfied: nvidia-nvjitlink-cu12 in /usr4/ba820/mwangcy/.local/lib/python3.10/site-packages (from nvidia-cusolver-cu12==11.4.5.107->torch>=1.10.0->torchmetrics) (12.4.127)\n",
      "Requirement already satisfied: MarkupSafe>=2.0 in /share/pkg.8/python3/3.10.12/install/lib/python3.10/site-packages (from jinja2->torch>=1.10.0->torchmetrics) (2.1.3)\n",
      "Requirement already satisfied: mpmath>=0.19 in /share/pkg.8/python3/3.10.12/install/lib/python3.10/site-packages (from sympy->torch>=1.10.0->torchmetrics) (1.3.0)\n",
      "Defaulting to user installation because normal site-packages is not writeable\n",
      "\u001b[31mERROR: You must give at least one requirement to install (see \"pip help install\")\u001b[0m\u001b[31m\n",
      "\u001b[0m"
     ]
    }
   ],
   "source": [
    "# !pip install torchvision\n",
    "# !pip install torchinfo\n",
    "# !pip install torchmetrics\n",
    "# !pip install wandb -qU"
   ]
  },
  {
   "cell_type": "code",
   "execution_count": 2,
   "id": "7583340f",
   "metadata": {},
   "outputs": [],
   "source": [
    "import pandas as pd\n",
    "import numpy as np\n",
    "import torch\n",
    "import torch.nn as nn\n",
    "import torch.optim as optim\n",
    "from torchvision import datasets, transforms\n",
    "import torchvision\n",
    "from torch.utils.data import DataLoader, random_split\n",
    "from torch.utils.data import DataLoader, Dataset\n",
    "import torchvision.transforms as T\n",
    "import torch\n",
    "import torch.nn as nn\n",
    "from torchvision.utils import make_grid\n",
    "from torchvision.utils import save_image\n",
    "from IPython.display import Image\n",
    "import matplotlib.pyplot as plt\n",
    "import numpy as np\n",
    "import random\n",
    "import torchmetrics\n",
    "from torchinfo import summary\n",
    "import torchvision.models as models\n",
    "%matplotlib inline"
   ]
  },
  {
   "cell_type": "code",
   "execution_count": 3,
   "id": "f6e63724",
   "metadata": {},
   "outputs": [
    {
     "data": {
      "text/plain": [
       "(    Image name  Retinopathy grade  Risk of macular edema \n",
       " 0    IDRiD_001                  3                       2\n",
       " 1    IDRiD_002                  3                       2\n",
       " 2    IDRiD_003                  2                       2\n",
       " 3    IDRiD_004                  3                       2\n",
       " 4    IDRiD_005                  4                       0\n",
       " ..         ...                ...                     ...\n",
       " 408  IDRiD_409                  2                       1\n",
       " 409  IDRiD_410                  2                       0\n",
       " 410  IDRiD_411                  2                       0\n",
       " 411  IDRiD_412                  2                       0\n",
       " 412  IDRiD_413                  2                       0\n",
       " \n",
       " [413 rows x 3 columns],\n",
       "     Image name  Retinopathy grade  Risk of macular edema \n",
       " 0    IDRiD_001                  4                       0\n",
       " 1    IDRiD_002                  4                       1\n",
       " 2    IDRiD_003                  4                       0\n",
       " 3    IDRiD_004                  4                       0\n",
       " 4    IDRiD_005                  4                       1\n",
       " ..         ...                ...                     ...\n",
       " 98   IDRiD_099                  0                       0\n",
       " 99   IDRiD_100                  2                       1\n",
       " 100  IDRiD_101                  1                       0\n",
       " 101  IDRiD_102                  2                       2\n",
       " 102  IDRiD_103                  0                       0\n",
       " \n",
       " [103 rows x 3 columns])"
      ]
     },
     "execution_count": 3,
     "metadata": {},
     "output_type": "execute_result"
    }
   ],
   "source": [
    "# importing the labels\n",
    "\n",
    "labels_training = pd.read_csv(\"Disease Grading/2. Groundtruths/a. IDRiD_Disease Grading_Training Labels.csv\")\n",
    "labels_testing = pd.read_csv(\"Disease Grading/2. Groundtruths/b. IDRiD_Disease Grading_Testing Labels.csv\")\n",
    "labels_training.dropna(axis = 1, inplace = True)\n",
    "labels_training, labels_testing"
   ]
  },
  {
   "cell_type": "code",
   "execution_count": 4,
   "id": "b8f49e7d",
   "metadata": {},
   "outputs": [
    {
     "name": "stderr",
     "output_type": "stream",
     "text": [
      "Failed to detect the name of this notebook, you can set it manually with the WANDB_NOTEBOOK_NAME environment variable to enable code saving.\n",
      "\u001b[34m\u001b[1mwandb\u001b[0m: Currently logged in as: \u001b[33mmwangcy0327\u001b[0m (\u001b[33mbostonu-ba865\u001b[0m). Use \u001b[1m`wandb login --relogin`\u001b[0m to force relogin\n"
     ]
    }
   ],
   "source": [
    "enable_wandb =  True\n",
    "use_gpu = True,\n",
    "gpu_available = torch.cuda.is_available()\n",
    "\n",
    "if enable_wandb:\n",
    "  import wandb\n",
    "  wandb.login()"
   ]
  },
  {
   "cell_type": "code",
   "execution_count": 5,
   "id": "71d21999",
   "metadata": {},
   "outputs": [],
   "source": [
    "# defining the configurations\n",
    "\n",
    "configs = {\n",
    "    \"experiment_name\": \"Modified\",\n",
    "    \"freeze_feature_extraction_layers\": False,\n",
    "    \"pretrained\": True,\n",
    "    \"efficientnet\": False, \n",
    "    \"data_augmentation\": True,\n",
    "    \"transferlearning\": True,\n",
    "\n",
    "    # Data\n",
    "    \"img_dimensions\" : (3, 448, 600),\n",
    "    \"batch_size\" : 32,\n",
    "    \"num_classes\" : 5,\n",
    "\n",
    "    # CNN\n",
    "    \"filter_sizes\" : [4,8,16],\n",
    "    \"kernel_size\" : 3,\n",
    "    \"stride\": 1,\n",
    "    \"padding\": 0,\n",
    "\n",
    "    # Optimzation\n",
    "    \"learning_rate\" : 0.0001,\n",
    "    \"epochs\" : 10,\n",
    "    \"weight_decay\" : 0.0001,\n",
    "    \"patience\" : 5\n",
    "}"
   ]
  },
  {
   "cell_type": "code",
   "execution_count": 6,
   "id": "48734ba6",
   "metadata": {},
   "outputs": [],
   "source": [
    "training_path = \"Disease Grading/1. Original Images/a. Training Set\"\n",
    "testing_path = \"Disease Grading/1. Original Images/b. Testing Set\"\n",
    "\n",
    "\n",
    "# Defining transformations for training data with data augmentation\n",
    "if configs[\"data_augmentation\"]:\n",
    "    transform = transforms.Compose([\n",
    "        transforms.RandomHorizontalFlip(0.5),\n",
    "        transforms.Resize([448, 500]),\n",
    "        transforms.Pad((0, 10, 0, 10)),\n",
    "        transforms.RandomRotation(45),\n",
    "        transforms.ToTensor(),\n",
    "        #transforms.Normalize(mean=[0.5944, 0.2908, 0.0962], std=[0.2047, 0.1284, 0.0866])\n",
    "    ])\n",
    "    \n",
    "# Defining transformations for training data without data augmentation\n",
    "else:\n",
    "    transform = transforms.Compose([\n",
    "        transforms.Resize([448, 500]),\n",
    "        transforms.ToTensor(),\n",
    "        transforms.Normalize(mean=[0.5944, 0.2908, 0.0962], std=[0.2047, 0.1284, 0.0866])\n",
    "    ])\n",
    "\n",
    "# Define transformations for test data\n",
    "test_transform = transforms.Compose([\n",
    "    transforms.Resize(([448, 600])),\n",
    "    transforms.Pad((0, 10, 0, 10)),\n",
    "    transforms.ToTensor()\n",
    "    ])\n",
    "\n",
    "train_dataset = torchvision.datasets.ImageFolder(training_path, transform = transform)\n",
    "train_dataset, val_dataset = random_split(train_dataset, [0.8, 0.2])\n",
    "test_dataset = torchvision.datasets.ImageFolder(testing_path, transform = test_transform)\n",
    "\n",
    "# Data loaders\n",
    "train_loader = DataLoader(dataset=train_dataset, batch_size = configs[\"batch_size\"], shuffle=True)\n",
    "val_loader = DataLoader(dataset=val_dataset, batch_size = configs[\"batch_size\"], shuffle=False)\n",
    "test_loader = DataLoader(dataset=test_dataset, batch_size = configs[\"batch_size\"], shuffle=False)"
   ]
  },
  {
   "cell_type": "code",
   "execution_count": 7,
   "id": "c8ba2dea",
   "metadata": {},
   "outputs": [
    {
     "data": {
      "text/plain": [
       "torch.Size([3, 468, 500])"
      ]
     },
     "execution_count": 7,
     "metadata": {},
     "output_type": "execute_result"
    }
   ],
   "source": [
    "train_dataset[0][0].shape"
   ]
  },
  {
   "cell_type": "code",
   "execution_count": 8,
   "id": "67c60655",
   "metadata": {},
   "outputs": [
    {
     "name": "stderr",
     "output_type": "stream",
     "text": [
      "/usr4/ba820/mwangcy/.local/lib/python3.10/site-packages/torchvision/models/_utils.py:208: UserWarning: The parameter 'pretrained' is deprecated since 0.13 and may be removed in the future, please use 'weights' instead.\n",
      "  warnings.warn(\n",
      "/usr4/ba820/mwangcy/.local/lib/python3.10/site-packages/torchvision/models/_utils.py:223: UserWarning: Arguments other than a weight enum or `None` for 'weights' are deprecated since 0.13 and may be removed in the future. The current behavior is equivalent to passing `weights=ResNet18_Weights.IMAGENET1K_V1`. You can also use `weights=ResNet18_Weights.DEFAULT` to get the most up-to-date weights.\n",
      "  warnings.warn(msg)\n"
     ]
    }
   ],
   "source": [
    "model = models.resnet18(pretrained=configs[\"pretrained\"])\n",
    "\n",
    "if gpu_available and use_gpu:\n",
    "  model = model.cuda()"
   ]
  },
  {
   "cell_type": "code",
   "execution_count": 9,
   "id": "77c40e2f",
   "metadata": {},
   "outputs": [
    {
     "name": "stdout",
     "output_type": "stream",
     "text": [
      "ResNet(\n",
      "  (conv1): Conv2d(3, 64, kernel_size=(7, 7), stride=(2, 2), padding=(3, 3), bias=False)\n",
      "  (bn1): BatchNorm2d(64, eps=1e-05, momentum=0.1, affine=True, track_running_stats=True)\n",
      "  (relu): ReLU(inplace=True)\n",
      "  (maxpool): MaxPool2d(kernel_size=3, stride=2, padding=1, dilation=1, ceil_mode=False)\n",
      "  (layer1): Sequential(\n",
      "    (0): BasicBlock(\n",
      "      (conv1): Conv2d(64, 64, kernel_size=(3, 3), stride=(1, 1), padding=(1, 1), bias=False)\n",
      "      (bn1): BatchNorm2d(64, eps=1e-05, momentum=0.1, affine=True, track_running_stats=True)\n",
      "      (relu): ReLU(inplace=True)\n",
      "      (conv2): Conv2d(64, 64, kernel_size=(3, 3), stride=(1, 1), padding=(1, 1), bias=False)\n",
      "      (bn2): BatchNorm2d(64, eps=1e-05, momentum=0.1, affine=True, track_running_stats=True)\n",
      "    )\n",
      "    (1): BasicBlock(\n",
      "      (conv1): Conv2d(64, 64, kernel_size=(3, 3), stride=(1, 1), padding=(1, 1), bias=False)\n",
      "      (bn1): BatchNorm2d(64, eps=1e-05, momentum=0.1, affine=True, track_running_stats=True)\n",
      "      (relu): ReLU(inplace=True)\n",
      "      (conv2): Conv2d(64, 64, kernel_size=(3, 3), stride=(1, 1), padding=(1, 1), bias=False)\n",
      "      (bn2): BatchNorm2d(64, eps=1e-05, momentum=0.1, affine=True, track_running_stats=True)\n",
      "    )\n",
      "  )\n",
      "  (layer2): Sequential(\n",
      "    (0): BasicBlock(\n",
      "      (conv1): Conv2d(64, 128, kernel_size=(3, 3), stride=(2, 2), padding=(1, 1), bias=False)\n",
      "      (bn1): BatchNorm2d(128, eps=1e-05, momentum=0.1, affine=True, track_running_stats=True)\n",
      "      (relu): ReLU(inplace=True)\n",
      "      (conv2): Conv2d(128, 128, kernel_size=(3, 3), stride=(1, 1), padding=(1, 1), bias=False)\n",
      "      (bn2): BatchNorm2d(128, eps=1e-05, momentum=0.1, affine=True, track_running_stats=True)\n",
      "      (downsample): Sequential(\n",
      "        (0): Conv2d(64, 128, kernel_size=(1, 1), stride=(2, 2), bias=False)\n",
      "        (1): BatchNorm2d(128, eps=1e-05, momentum=0.1, affine=True, track_running_stats=True)\n",
      "      )\n",
      "    )\n",
      "    (1): BasicBlock(\n",
      "      (conv1): Conv2d(128, 128, kernel_size=(3, 3), stride=(1, 1), padding=(1, 1), bias=False)\n",
      "      (bn1): BatchNorm2d(128, eps=1e-05, momentum=0.1, affine=True, track_running_stats=True)\n",
      "      (relu): ReLU(inplace=True)\n",
      "      (conv2): Conv2d(128, 128, kernel_size=(3, 3), stride=(1, 1), padding=(1, 1), bias=False)\n",
      "      (bn2): BatchNorm2d(128, eps=1e-05, momentum=0.1, affine=True, track_running_stats=True)\n",
      "    )\n",
      "  )\n",
      "  (layer3): Sequential(\n",
      "    (0): BasicBlock(\n",
      "      (conv1): Conv2d(128, 256, kernel_size=(3, 3), stride=(2, 2), padding=(1, 1), bias=False)\n",
      "      (bn1): BatchNorm2d(256, eps=1e-05, momentum=0.1, affine=True, track_running_stats=True)\n",
      "      (relu): ReLU(inplace=True)\n",
      "      (conv2): Conv2d(256, 256, kernel_size=(3, 3), stride=(1, 1), padding=(1, 1), bias=False)\n",
      "      (bn2): BatchNorm2d(256, eps=1e-05, momentum=0.1, affine=True, track_running_stats=True)\n",
      "      (downsample): Sequential(\n",
      "        (0): Conv2d(128, 256, kernel_size=(1, 1), stride=(2, 2), bias=False)\n",
      "        (1): BatchNorm2d(256, eps=1e-05, momentum=0.1, affine=True, track_running_stats=True)\n",
      "      )\n",
      "    )\n",
      "    (1): BasicBlock(\n",
      "      (conv1): Conv2d(256, 256, kernel_size=(3, 3), stride=(1, 1), padding=(1, 1), bias=False)\n",
      "      (bn1): BatchNorm2d(256, eps=1e-05, momentum=0.1, affine=True, track_running_stats=True)\n",
      "      (relu): ReLU(inplace=True)\n",
      "      (conv2): Conv2d(256, 256, kernel_size=(3, 3), stride=(1, 1), padding=(1, 1), bias=False)\n",
      "      (bn2): BatchNorm2d(256, eps=1e-05, momentum=0.1, affine=True, track_running_stats=True)\n",
      "    )\n",
      "  )\n",
      "  (layer4): Sequential(\n",
      "    (0): BasicBlock(\n",
      "      (conv1): Conv2d(256, 512, kernel_size=(3, 3), stride=(2, 2), padding=(1, 1), bias=False)\n",
      "      (bn1): BatchNorm2d(512, eps=1e-05, momentum=0.1, affine=True, track_running_stats=True)\n",
      "      (relu): ReLU(inplace=True)\n",
      "      (conv2): Conv2d(512, 512, kernel_size=(3, 3), stride=(1, 1), padding=(1, 1), bias=False)\n",
      "      (bn2): BatchNorm2d(512, eps=1e-05, momentum=0.1, affine=True, track_running_stats=True)\n",
      "      (downsample): Sequential(\n",
      "        (0): Conv2d(256, 512, kernel_size=(1, 1), stride=(2, 2), bias=False)\n",
      "        (1): BatchNorm2d(512, eps=1e-05, momentum=0.1, affine=True, track_running_stats=True)\n",
      "      )\n",
      "    )\n",
      "    (1): BasicBlock(\n",
      "      (conv1): Conv2d(512, 512, kernel_size=(3, 3), stride=(1, 1), padding=(1, 1), bias=False)\n",
      "      (bn1): BatchNorm2d(512, eps=1e-05, momentum=0.1, affine=True, track_running_stats=True)\n",
      "      (relu): ReLU(inplace=True)\n",
      "      (conv2): Conv2d(512, 512, kernel_size=(3, 3), stride=(1, 1), padding=(1, 1), bias=False)\n",
      "      (bn2): BatchNorm2d(512, eps=1e-05, momentum=0.1, affine=True, track_running_stats=True)\n",
      "    )\n",
      "  )\n",
      "  (avgpool): AdaptiveAvgPool2d(output_size=(1, 1))\n",
      "  (fc): Linear(in_features=512, out_features=1000, bias=True)\n",
      ")\n"
     ]
    }
   ],
   "source": [
    "print(model)"
   ]
  },
  {
   "cell_type": "code",
   "execution_count": 10,
   "id": "93174ac0",
   "metadata": {},
   "outputs": [
    {
     "data": {
      "text/plain": [
       "=================================================================\n",
       "Layer (type:depth-idx)                   Param #\n",
       "=================================================================\n",
       "ResNet                                   --\n",
       "├─Conv2d: 1-1                            9,408\n",
       "├─BatchNorm2d: 1-2                       128\n",
       "├─ReLU: 1-3                              --\n",
       "├─MaxPool2d: 1-4                         --\n",
       "├─Sequential: 1-5                        --\n",
       "│    └─BasicBlock: 2-1                   --\n",
       "│    │    └─Conv2d: 3-1                  36,864\n",
       "│    │    └─BatchNorm2d: 3-2             128\n",
       "│    │    └─ReLU: 3-3                    --\n",
       "│    │    └─Conv2d: 3-4                  36,864\n",
       "│    │    └─BatchNorm2d: 3-5             128\n",
       "│    └─BasicBlock: 2-2                   --\n",
       "│    │    └─Conv2d: 3-6                  36,864\n",
       "│    │    └─BatchNorm2d: 3-7             128\n",
       "│    │    └─ReLU: 3-8                    --\n",
       "│    │    └─Conv2d: 3-9                  36,864\n",
       "│    │    └─BatchNorm2d: 3-10            128\n",
       "├─Sequential: 1-6                        --\n",
       "│    └─BasicBlock: 2-3                   --\n",
       "│    │    └─Conv2d: 3-11                 73,728\n",
       "│    │    └─BatchNorm2d: 3-12            256\n",
       "│    │    └─ReLU: 3-13                   --\n",
       "│    │    └─Conv2d: 3-14                 147,456\n",
       "│    │    └─BatchNorm2d: 3-15            256\n",
       "│    │    └─Sequential: 3-16             8,448\n",
       "│    └─BasicBlock: 2-4                   --\n",
       "│    │    └─Conv2d: 3-17                 147,456\n",
       "│    │    └─BatchNorm2d: 3-18            256\n",
       "│    │    └─ReLU: 3-19                   --\n",
       "│    │    └─Conv2d: 3-20                 147,456\n",
       "│    │    └─BatchNorm2d: 3-21            256\n",
       "├─Sequential: 1-7                        --\n",
       "│    └─BasicBlock: 2-5                   --\n",
       "│    │    └─Conv2d: 3-22                 294,912\n",
       "│    │    └─BatchNorm2d: 3-23            512\n",
       "│    │    └─ReLU: 3-24                   --\n",
       "│    │    └─Conv2d: 3-25                 589,824\n",
       "│    │    └─BatchNorm2d: 3-26            512\n",
       "│    │    └─Sequential: 3-27             33,280\n",
       "│    └─BasicBlock: 2-6                   --\n",
       "│    │    └─Conv2d: 3-28                 589,824\n",
       "│    │    └─BatchNorm2d: 3-29            512\n",
       "│    │    └─ReLU: 3-30                   --\n",
       "│    │    └─Conv2d: 3-31                 589,824\n",
       "│    │    └─BatchNorm2d: 3-32            512\n",
       "├─Sequential: 1-8                        --\n",
       "│    └─BasicBlock: 2-7                   --\n",
       "│    │    └─Conv2d: 3-33                 1,179,648\n",
       "│    │    └─BatchNorm2d: 3-34            1,024\n",
       "│    │    └─ReLU: 3-35                   --\n",
       "│    │    └─Conv2d: 3-36                 2,359,296\n",
       "│    │    └─BatchNorm2d: 3-37            1,024\n",
       "│    │    └─Sequential: 3-38             132,096\n",
       "│    └─BasicBlock: 2-8                   --\n",
       "│    │    └─Conv2d: 3-39                 2,359,296\n",
       "│    │    └─BatchNorm2d: 3-40            1,024\n",
       "│    │    └─ReLU: 3-41                   --\n",
       "│    │    └─Conv2d: 3-42                 2,359,296\n",
       "│    │    └─BatchNorm2d: 3-43            1,024\n",
       "├─AdaptiveAvgPool2d: 1-9                 --\n",
       "├─Sequential: 1-10                       --\n",
       "│    └─Linear: 2-9                       51,300\n",
       "│    └─ReLU: 2-10                        --\n",
       "│    └─Linear: 2-11                      505\n",
       "=================================================================\n",
       "Total params: 11,228,317\n",
       "Trainable params: 11,228,317\n",
       "Non-trainable params: 0\n",
       "================================================================="
      ]
     },
     "execution_count": 10,
     "metadata": {},
     "output_type": "execute_result"
    }
   ],
   "source": [
    "# configuring the last fully connected layer\n",
    "if configs[\"transferlearning\"]:\n",
    "  if configs[\"efficientnet\"]:\n",
    "    model.classifier[1] = torch.nn.Sequential(torch.nn.Linear(1408, 100), torch.nn.ReLU(), torch.nn.Linear(100, configs[\"num_classes\"]))\n",
    "  else:\n",
    "    model.fc = torch.nn.Sequential(torch.nn.Linear(512, 100), torch.nn.ReLU(), torch.nn.Linear(100, configs[\"num_classes\"]))\n",
    "model\n",
    "\n",
    "if configs[\"transferlearning\"]:\n",
    "  if configs[\"freeze_feature_extraction_layers\"]==True:\n",
    "    # Freeze all layers except the last fully connected layer\n",
    "    for param in model.parameters():\n",
    "        param.requires_grad = False\n",
    "\n",
    "    # Unfreeze the last fully connected layer\n",
    "    if configs[\"efficientnet\"]:\n",
    "      for param in model.classifier[1].parameters():\n",
    "          param.requires_grad = True\n",
    "    else:\n",
    "      for param in model.fc.parameters():\n",
    "          param.requires_grad = True\n",
    "\n",
    "summary(model)"
   ]
  },
  {
   "cell_type": "code",
   "execution_count": 11,
   "id": "d33c9232",
   "metadata": {},
   "outputs": [],
   "source": [
    "# defining loss and optimizer\n",
    "\n",
    "criterion = nn.CrossEntropyLoss()\n",
    "optimizer = optim.Adam(model.parameters(), lr=configs[\"learning_rate\"], weight_decay=configs[\"weight_decay\"])"
   ]
  },
  {
   "cell_type": "code",
   "execution_count": 12,
   "id": "cdc764af",
   "metadata": {},
   "outputs": [],
   "source": [
    "def get_accuracy(dataloader, model):\n",
    "  device = 'cuda' if torch.cuda.is_available() else 'cpu'\n",
    "  acc = torchmetrics.Accuracy(task = \"multiclass\", num_classes = configs[\"num_classes\"]).to(device)\n",
    "\n",
    "  with torch.no_grad():\n",
    "      for images, labels in dataloader:\n",
    "          if gpu_available and use_gpu:\n",
    "            images = images.cuda()\n",
    "            labels = labels.cuda()\n",
    "\n",
    "          outputs = model(images) # get predictions\n",
    "\n",
    "          # Update accuracy for this batch\n",
    "          acc.update(outputs, labels)\n",
    "\n",
    "\n",
    "      # Compute the accuracy\n",
    "      acc = acc.compute()\n",
    "\n",
    "      return acc\n",
    "\n",
    "def get_loss(loader):\n",
    "  with torch.no_grad(): \n",
    "\n",
    "    loss = 0\n",
    "    for i, (images, labels) in enumerate(loader): # The batches.\n",
    "          # step1: Move data to cuda. Make sure the model is on cuda too!\n",
    "          if gpu_available and use_gpu:\n",
    "            images = images.cuda()\n",
    "            labels = labels.cuda()\n",
    "\n",
    "          # step2: Forward pass\n",
    "          outputs = model(images)\n",
    "\n",
    "          # step 3: calculate the loss.\n",
    "          loss = loss + criterion(outputs, labels)\n",
    "    return loss/ len(loader)\n",
    "\n",
    "class EarlyStopper:\n",
    "    def __init__(self, patience=1):\n",
    "        self.patience = patience\n",
    "        self.counter = 0\n",
    "        self.min_validation_loss = float('inf')\n",
    "\n",
    "    def early_stop(self, validation_loss):\n",
    "        # If the new loss is lower than the old loss, reset the counter\n",
    "        if validation_loss < self.min_validation_loss:\n",
    "            self.min_validation_loss = validation_loss\n",
    "            self.counter = 0\n",
    "            # Keep track of the best model by saving it on the hard drive.\n",
    "            torch.save(model.state_dict(), \"./best_model.pt\")\n",
    "        # otherwise increase the counter.\n",
    "        elif validation_loss > self.min_validation_loss:\n",
    "            self.counter += 1\n",
    "            # If there has been too more epochs than the defined patience, terminate.\n",
    "            if self.counter >= self.patience:\n",
    "                return True\n",
    "        return False"
   ]
  },
  {
   "cell_type": "code",
   "execution_count": 13,
   "id": "07cfb0dd",
   "metadata": {},
   "outputs": [
    {
     "data": {
      "text/html": [
       "Tracking run with wandb version 0.16.6"
      ],
      "text/plain": [
       "<IPython.core.display.HTML object>"
      ]
     },
     "metadata": {},
     "output_type": "display_data"
    },
    {
     "data": {
      "text/html": [
       "Run data is saved locally in <code>/projectnb/ba865/projects/Group 4_A1/wandb/run-20240425_114834-ofqom2ui</code>"
      ],
      "text/plain": [
       "<IPython.core.display.HTML object>"
      ]
     },
     "metadata": {},
     "output_type": "display_data"
    },
    {
     "data": {
      "text/html": [
       "Syncing run <strong><a href='https://wandb.ai/bostonu-ba865/BA865%20Project%20Neural%20Networks%20Report/runs/ofqom2ui' target=\"_blank\">Modified</a></strong> to <a href='https://wandb.ai/bostonu-ba865/BA865%20Project%20Neural%20Networks%20Report' target=\"_blank\">Weights & Biases</a> (<a href='https://wandb.me/run' target=\"_blank\">docs</a>)<br/>"
      ],
      "text/plain": [
       "<IPython.core.display.HTML object>"
      ]
     },
     "metadata": {},
     "output_type": "display_data"
    },
    {
     "data": {
      "text/html": [
       " View project at <a href='https://wandb.ai/bostonu-ba865/BA865%20Project%20Neural%20Networks%20Report' target=\"_blank\">https://wandb.ai/bostonu-ba865/BA865%20Project%20Neural%20Networks%20Report</a>"
      ],
      "text/plain": [
       "<IPython.core.display.HTML object>"
      ]
     },
     "metadata": {},
     "output_type": "display_data"
    },
    {
     "data": {
      "text/html": [
       " View run at <a href='https://wandb.ai/bostonu-ba865/BA865%20Project%20Neural%20Networks%20Report/runs/ofqom2ui' target=\"_blank\">https://wandb.ai/bostonu-ba865/BA865%20Project%20Neural%20Networks%20Report/runs/ofqom2ui</a>"
      ],
      "text/plain": [
       "<IPython.core.display.HTML object>"
      ]
     },
     "metadata": {},
     "output_type": "display_data"
    }
   ],
   "source": [
    "if enable_wandb:\n",
    "  wandb.init(\n",
    "    project= \"BA865 Project Neural Networks Report\",\n",
    "    name=configs[\"experiment_name\"],\n",
    "    config=configs)\n",
    "\n",
    "if gpu_available and use_gpu:\n",
    "  model = model.cuda()"
   ]
  },
  {
   "cell_type": "code",
   "execution_count": 14,
   "id": "910d3737",
   "metadata": {},
   "outputs": [
    {
     "name": "stdout",
     "output_type": "stream",
     "text": [
      "Epoch 1  batch 1 . Training Loss:  1.5394303798675537\n",
      "Epoch 1  batch 11 . Training Loss:  1.128475308418274\n",
      "Epoch [1/10], LR: 0.0001, Validation Loss: 1.1380, Train Accuracy: 0.5710, Validation Accuracy: 0.6098\n",
      "New lowest validation loss found. Saving model...\n",
      "Epoch 2  batch 1 . Training Loss:  1.2253285646438599\n",
      "Epoch 2  batch 11 . Training Loss:  1.3086007833480835\n",
      "Epoch [2/10], LR: 0.0001, Validation Loss: 0.9265, Train Accuracy: 0.6133, Validation Accuracy: 0.6707\n",
      "New lowest validation loss found. Saving model...\n",
      "Epoch 3  batch 1 . Training Loss:  1.091309905052185\n",
      "Epoch 3  batch 11 . Training Loss:  0.9710489511489868\n",
      "Epoch [3/10], LR: 0.0001, Validation Loss: 0.9390, Train Accuracy: 0.7039, Validation Accuracy: 0.6585\n",
      "Epoch 4  batch 1 . Training Loss:  0.6959180235862732\n",
      "Epoch 4  batch 11 . Training Loss:  0.5536024570465088\n",
      "Epoch [4/10], LR: 0.0001, Validation Loss: 0.8285, Train Accuracy: 0.7009, Validation Accuracy: 0.6951\n",
      "New lowest validation loss found. Saving model...\n",
      "Epoch 5  batch 1 . Training Loss:  0.7327167391777039\n",
      "Epoch 5  batch 11 . Training Loss:  0.6721624732017517\n",
      "Epoch [5/10], LR: 0.0001, Validation Loss: 0.9492, Train Accuracy: 0.7553, Validation Accuracy: 0.6463\n",
      "Epoch 6  batch 1 . Training Loss:  0.6725665330886841\n",
      "Epoch 6  batch 11 . Training Loss:  0.9174523949623108\n",
      "Epoch [6/10], LR: 0.0001, Validation Loss: 0.7977, Train Accuracy: 0.7915, Validation Accuracy: 0.7073\n",
      "New lowest validation loss found. Saving model...\n",
      "Epoch 7  batch 1 . Training Loss:  0.43600812554359436\n",
      "Epoch 7  batch 11 . Training Loss:  0.4118126630783081\n",
      "Epoch [7/10], LR: 0.0001, Validation Loss: 0.8743, Train Accuracy: 0.8218, Validation Accuracy: 0.6463\n",
      "Epoch 8  batch 1 . Training Loss:  0.5500206351280212\n",
      "Epoch 8  batch 11 . Training Loss:  0.8142741918563843\n",
      "Epoch [8/10], LR: 0.0001, Validation Loss: 0.9270, Train Accuracy: 0.8066, Validation Accuracy: 0.6341\n",
      "Epoch 9  batch 1 . Training Loss:  0.3912045359611511\n",
      "Epoch 9  batch 11 . Training Loss:  0.3204151391983032\n",
      "Epoch [9/10], LR: 3e-05, Validation Loss: 0.8850, Train Accuracy: 0.8369, Validation Accuracy: 0.6707\n",
      "Epoch 10  batch 1 . Training Loss:  0.33590444922447205\n",
      "Epoch 10  batch 11 . Training Loss:  0.5636124014854431\n",
      "Epoch [10/10], LR: 3e-05, Validation Loss: 0.8019, Train Accuracy: 0.8520, Validation Accuracy: 0.6463\n"
     ]
    }
   ],
   "source": [
    "early_stopper = EarlyStopper(patience = configs[\"patience\"])\n",
    "scheduler = torch.optim.lr_scheduler.ReduceLROnPlateau(optimizer, factor=0.3, patience=3)\n",
    "\n",
    "lowest_val_loss = float('inf')\n",
    "best_model_weights = None\n",
    "\n",
    "# Training loop\n",
    "for epoch in range(configs[\"epochs\"]): # The epochs.\n",
    "    for i, (images, labels) in enumerate(train_loader): # The batches.\n",
    "        # step 1: Zero out the gradients.\n",
    "        optimizer.zero_grad()\n",
    "\n",
    "        # step 1.1 move data to cuda. Make sure the model is on cuda too!\n",
    "        if gpu_available and use_gpu:\n",
    "          images = images.cuda()\n",
    "          labels = labels.cuda()\n",
    "\n",
    "        # step2: Forward pass\n",
    "        outputs = model(images)\n",
    "\n",
    "        # step 3: calculate the loss.\n",
    "        loss = criterion(outputs, labels)\n",
    "\n",
    "        # step 4: Backward pass\n",
    "        loss.backward()\n",
    "        optimizer.step()\n",
    "\n",
    "        # Print the loss\n",
    "        if i %10 == 0:\n",
    "          print(\"Epoch\", epoch+ 1, \" batch\", i+1, \". Training Loss: \", loss.item())\n",
    "          if enable_wandb:\n",
    "            wandb.log({\"loss\": loss})\n",
    "\n",
    "    # Compute total train accuracy\n",
    "    train_acc = get_accuracy(train_loader, model)\n",
    "    test_acc = get_accuracy(val_loader, model)\n",
    "\n",
    "    validation_loss = get_loss(val_loader)\n",
    "    wandb.log({\"val_loss\": validation_loss})\n",
    "\n",
    "    print(f'Epoch [{epoch + 1}/{configs[\"epochs\"]}], LR: {optimizer.param_groups[0][\"lr\"]}, Validation Loss: {validation_loss.item():.4f}, Train Accuracy: {train_acc.item():.4f}, Validation Accuracy: {test_acc.item():.4f}')\n",
    "    if enable_wandb:\n",
    "      wandb.log({\"epoch\": epoch + 1, \"LR\": {optimizer.param_groups[0]['lr']}, \"train_accuracy\": train_acc.item(), \"val_accuracy\": test_acc.item()})\n",
    "\n",
    "      predictions = []\n",
    "    \n",
    "      with torch.no_grad():\n",
    "        for inputs, labels in test_loader:\n",
    "            outputs = model(inputs.cuda()) \n",
    "            _, predicted = torch.max(outputs, 1)\n",
    "            predictions.extend(predicted.tolist())  # Append predictions to the list\n",
    "    \n",
    "      wandb.log({\"conf_mat\": wandb.plot.confusion_matrix(probs=None, \n",
    "                                                    y_true=test_loader.dataset.targets, \n",
    "                                                    preds=predictions, \n",
    "                                                    class_names=test_loader.dataset.classes)})\n",
    "\n",
    "    scheduler.step(validation_loss)\n",
    "    \n",
    "    if validation_loss < lowest_val_loss:\n",
    "        print(\"New lowest validation loss found. Saving model...\")\n",
    "        lowest_val_loss = validation_loss\n",
    "        best_model_weights = model.state_dict()\n",
    "\n",
    "    # Save the best model weights\n",
    "    torch.save(best_model_weights, 'best_model_weights_no_norm.pth')\n",
    "    \n",
    "    scheduler.step(validation_loss)\n",
    "\n",
    "    if early_stopper.early_stop(validation_loss):\n",
    "        print(\"Validation loss hasn't dropped. Early stopping!\")\n",
    "        break"
   ]
  },
  {
   "cell_type": "code",
   "execution_count": 15,
   "id": "0a2ec205",
   "metadata": {
    "scrolled": true
   },
   "outputs": [
    {
     "data": {
      "application/vnd.jupyter.widget-view+json": {
       "model_id": "df6b8ce268c14f5c912609b33019546d",
       "version_major": 2,
       "version_minor": 0
      },
      "text/plain": [
       "VBox(children=(Label(value='0.023 MB of 0.023 MB uploaded\\r'), FloatProgress(value=0.9696907638746672, max=1.0…"
      ]
     },
     "metadata": {},
     "output_type": "display_data"
    },
    {
     "data": {
      "text/html": [
       "<style>\n",
       "    table.wandb td:nth-child(1) { padding: 0 10px; text-align: left ; width: auto;} td:nth-child(2) {text-align: left ; width: 100%}\n",
       "    .wandb-row { display: flex; flex-direction: row; flex-wrap: wrap; justify-content: flex-start; width: 100% }\n",
       "    .wandb-col { display: flex; flex-direction: column; flex-basis: 100%; flex: 1; padding: 10px; }\n",
       "    </style>\n",
       "<div class=\"wandb-row\"><div class=\"wandb-col\"><h3>Run history:</h3><br/><table class=\"wandb\"><tr><td>epoch</td><td>▁▂▃▃▄▅▆▆▇█</td></tr><tr><td>loss</td><td>█▆▆▇▅▅▃▂▃▃▃▄▂▂▂▄▁▁▁▂</td></tr><tr><td>train_accuracy</td><td>▁▂▄▄▆▆▇▇██</td></tr><tr><td>val_accuracy</td><td>▁▅▅▇▄█▄▃▅▄</td></tr><tr><td>val_loss</td><td>█▄▄▂▄▁▃▄▃▁</td></tr></table><br/></div><div class=\"wandb-col\"><h3>Run summary:</h3><br/><table class=\"wandb\"><tr><td>epoch</td><td>10</td></tr><tr><td>loss</td><td>0.56361</td></tr><tr><td>train_accuracy</td><td>0.85196</td></tr><tr><td>val_accuracy</td><td>0.64634</td></tr><tr><td>val_loss</td><td>0.80188</td></tr></table><br/></div></div>"
      ],
      "text/plain": [
       "<IPython.core.display.HTML object>"
      ]
     },
     "metadata": {},
     "output_type": "display_data"
    },
    {
     "data": {
      "text/html": [
       " View run <strong style=\"color:#cdcd00\">Modified</strong> at: <a href='https://wandb.ai/bostonu-ba865/BA865%20Project%20Neural%20Networks%20Report/runs/ofqom2ui' target=\"_blank\">https://wandb.ai/bostonu-ba865/BA865%20Project%20Neural%20Networks%20Report/runs/ofqom2ui</a><br/> View project at: <a href='https://wandb.ai/bostonu-ba865/BA865%20Project%20Neural%20Networks%20Report' target=\"_blank\">https://wandb.ai/bostonu-ba865/BA865%20Project%20Neural%20Networks%20Report</a><br/>Synced 5 W&B file(s), 10 media file(s), 10 artifact file(s) and 0 other file(s)"
      ],
      "text/plain": [
       "<IPython.core.display.HTML object>"
      ]
     },
     "metadata": {},
     "output_type": "display_data"
    },
    {
     "data": {
      "text/html": [
       "Find logs at: <code>./wandb/run-20240425_114834-ofqom2ui/logs</code>"
      ],
      "text/plain": [
       "<IPython.core.display.HTML object>"
      ]
     },
     "metadata": {},
     "output_type": "display_data"
    }
   ],
   "source": [
    "if enable_wandb:\n",
    "  wandb.finish()"
   ]
  }
 ],
 "metadata": {
  "kernelspec": {
   "display_name": "Python 3 (ipykernel)",
   "language": "python",
   "name": "python3"
  },
  "language_info": {
   "codemirror_mode": {
    "name": "ipython",
    "version": 3
   },
   "file_extension": ".py",
   "mimetype": "text/x-python",
   "name": "python",
   "nbconvert_exporter": "python",
   "pygments_lexer": "ipython3",
   "version": "3.10.12"
  }
 },
 "nbformat": 4,
 "nbformat_minor": 5
}
